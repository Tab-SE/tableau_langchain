{
 "cells": [
  {
   "cell_type": "markdown",
   "metadata": {},
   "source": [
    "# Simple Data Source Q&A\n",
    "\n",
    "This is a sample implementation of an analytical Agent for Tableau built with Langgraph\n",
    "\n",
    "### Dependencies and Environment Variables\n",
    "\n",
    "First we begin with the dependencies and environment variables needed to run the Agent graph"
   ]
  },
  {
   "cell_type": "code",
   "execution_count": 2,
   "metadata": {},
   "outputs": [],
   "source": [
    "import os\n",
    "from dotenv import load_dotenv\n",
    "from IPython.display import display, Markdown\n",
    "\n",
    "# base langchain library imports\n",
    "from langchain_openai import ChatOpenAI\n",
    "from langgraph.prebuilt import create_react_agent\n",
    "\n",
    "# community contributions\n",
    "from community.langchain_community.tools.tableau.simple_datasource_qa import initialize_simple_datasource_qa\n",
    "# sample tableau tools\n",
    "from agents.tools import tableau_metrics, tableau_workbooks, tavily_tool\n",
    "\n",
    "\n",
    "# environment variables available to current process and sub processes\n",
    "load_dotenv()\n",
    "# variables for authenticating and interacting with a Tableau site\n",
    "tableau_domain = os.environ['TABLEAU_DOMAIN']\n",
    "tableau_site = os.environ['TABLEAU_SITE']\n",
    "tableau_jwt_client_id = os.environ['TABLEAU_JWT_CLIENT_ID']\n",
    "tableau_jwt_secret_id = os.environ['TABLEAU_JWT_SECRET_ID']\n",
    "tableau_jwt_secret = os.environ['TABLEAU_JWT_SECRET']\n",
    "tableau_api_version = os.environ['TABLEAU_API_VERSION']\n",
    "tableau_user = os.environ['TABLEAU_USER']\n",
    "# the target data source for this Tool\n",
    "datasource_luid = os.environ['DATASOURCE_LUID']\n",
    "# variables to control LLM models for the Agent and Tools\n",
    "open_api_key = os.environ[\"OPENAI_API_KEY\"]\n",
    "agent_llm_model = os.environ['AGENT_MODEL']\n",
    "tooling_llm_model = os.environ['TOOLING_MODEL']"
   ]
  },
  {
   "cell_type": "markdown",
   "metadata": {},
   "source": [
    "### Agent Graph\n",
    "\n",
    "Then we define the Agent graph using Langgraph's prebuilt `create_react_agent` combined with the a tool to query a Tableau data source for conversational analytics"
   ]
  },
  {
   "cell_type": "code",
   "execution_count": 3,
   "metadata": {},
   "outputs": [],
   "source": [
    "# configure running model for the agent\n",
    "llm = ChatOpenAI(\n",
    "    model=agent_llm_model,\n",
    "    api_key=open_api_key,\n",
    "    temperature=0,\n",
    "    verbose=True,\n",
    "    max_tokens=None,\n",
    "    timeout=None,\n",
    "    max_retries=2\n",
    ")\n",
    "\n",
    "# Tableau VizQL Data Service Query Tool\n",
    "tableau_datasource = initialize_simple_datasource_qa(\n",
    "    domain=tableau_domain,\n",
    "    site=tableau_site,\n",
    "    jwt_client_id=tableau_jwt_client_id,\n",
    "    jwt_secret_id=tableau_jwt_secret_id,\n",
    "    jwt_secret=tableau_jwt_secret,\n",
    "    tableau_api_version=tableau_api_version,\n",
    "    tableau_user=tableau_user,\n",
    "    datasource_luid=datasource_luid,\n",
    "    tooling_llm_model=tooling_llm_model\n",
    ")\n",
    "\n",
    "#  \n",
    "web_search = tavily_tool()\n",
    "\n",
    "# load the List of Tools to be used by the Agent\n",
    "tools = [ tableau_datasource, tableau_metrics, tableau_workbooks ]\n",
    "\n",
    "# set agent debugging state\n",
    "if os.getenv('DEBUG') == '1':\n",
    "    debugging = True\n",
    "else:\n",
    "    debugging = False\n",
    "\n",
    "# define the agent graph\n",
    "query_agent = create_react_agent(\n",
    "    model=llm,\n",
    "    tools=tools,\n",
    "    debug=debugging\n",
    ")"
   ]
  },
  {
   "cell_type": "markdown",
   "metadata": {},
   "source": [
    "### Interacting with the Analytical Agent\n",
    "\n",
    "After constructing an Analytical Agent with the power to query a Tableau data source, we proceed to ask questions, set tasks and issue commands to the Agent"
   ]
  },
  {
   "cell_type": "code",
   "execution_count": 5,
   "metadata": {},
   "outputs": [
    {
     "data": {
      "text/markdown": [
       "\n",
       "\n",
       "Analytics Agent:\n",
       "\n",
       "Row-level security (RLS) in Tableau is a method used to restrict access to specific rows of data within a workbook based on the user viewing it. This is different from Tableau permissions, which manage access to content and feature functionalities. For instance, while permissions determine whether a user can comment on or edit a workbook, RLS ensures that two users viewing the same dashboard will only see the data they are authorized to access.\n",
       "\n",
       "Tableau provides several approaches to implement row-level security:\n",
       "\n",
       "1. **User Filters**: This method involves creating user filters and manually mapping users to specific values. While this approach is straightforward, it can be high maintenance and may lead to security vulnerabilities if not managed properly.\n",
       "\n",
       "For more detailed information, you can refer to the official Tableau documentation on [Row-Level Security Best Practices](https://help.tableau.com/current/server/en-us/rls_bestpractices.htm) and [User Filters](https://help.tableau.com/current/pro/desktop/en-us/publish_userfilters.htm)."
      ],
      "text/plain": [
       "<IPython.core.display.Markdown object>"
      ]
     },
     "metadata": {},
     "output_type": "display_data"
    }
   ],
   "source": [
    "# question or task sent to the agent\n",
    "message_string0 = 'give me an update on my kpis'\n",
    "message_string1 = 'show me total sales, average discount, profits by region sorted by profit descending'\n",
    "message_string2 = 'what dashboards cover the subject of shipping?'\n",
    "message_string3 = 'explain row-level security for Tableau using their offical web docs'\n",
    "\n",
    "\n",
    "# Run the agent\n",
    "messages = query_agent.invoke({\"messages\": [(\"human\", message_string3)]})\n",
    "agent_message = \"\\n\\nAnalytics Agent:\\n\\n\" + messages['messages'][3].content\n",
    "display(Markdown(agent_message))"
   ]
  }
 ],
 "metadata": {
  "kernelspec": {
   "display_name": "tableau_langchain",
   "language": "python",
   "name": "python3"
  },
  "language_info": {
   "codemirror_mode": {
    "name": "ipython",
    "version": 3
   },
   "file_extension": ".py",
   "mimetype": "text/x-python",
   "name": "python",
   "nbconvert_exporter": "python",
   "pygments_lexer": "ipython3",
   "version": "3.12.2"
  }
 },
 "nbformat": 4,
 "nbformat_minor": 2
}
