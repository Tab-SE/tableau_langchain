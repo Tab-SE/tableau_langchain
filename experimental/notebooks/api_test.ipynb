{
 "cells": [
  {
   "cell_type": "code",
   "execution_count": null,
   "metadata": {},
   "outputs": [],
   "source": [
    "# Programmatically create and query Tableau Agents using APIs\n",
    "\n",
    "# Step 1: Run your agent using Langraph dev or Langgraph cloud"
   ]
  },
  {
   "cell_type": "code",
   "execution_count": 1,
   "metadata": {},
   "outputs": [],
   "source": [
    "#import required packages\n",
    "import requests\n",
    "import json\n",
    "from IPython.display import Markdown, display"
   ]
  },
  {
   "cell_type": "code",
   "execution_count": 9,
   "metadata": {},
   "outputs": [],
   "source": [
    "#generate an instance of a Tableau Data Q&A Agent\n",
    "def generate_agent(agent_url, graph_id_name):\n",
    "    url = agent_url + \"/assistants\"\n",
    "    \n",
    "    payload = {\n",
    "        \"assistant_id\": \"\",\n",
    "        \"graph_id\": graph_id_name,\n",
    "        \"config\": {},\n",
    "        \"metadata\": {},\n",
    "        \"if_exists\": \"raise\",\n",
    "        \"name\": \"\"\n",
    "    }\n",
    "    headers = {\"Content-Type\": \"application/json\"}\n",
    "    \n",
    "    response = requests.post(url, json=payload, headers=headers)\n",
    "    \n",
    "    return(response.json()[\"assistant_id\"])"
   ]
  },
  {
   "cell_type": "code",
   "execution_count": 12,
   "metadata": {},
   "outputs": [
    {
     "data": {
      "text/plain": [
       "'17909892-e2f4-479b-825e-d97f4120b62e'"
      ]
     },
     "execution_count": 12,
     "metadata": {},
     "output_type": "execute_result"
    }
   ],
   "source": [
    "my_url = 'http://127.0.0.1:2024'\n",
    "my_graph_id = 'keynote'\n",
    "agent_id = generate_agent(my_url, my_graph_id)\n",
    "agent_id"
   ]
  },
  {
   "cell_type": "code",
   "execution_count": 15,
   "metadata": {},
   "outputs": [],
   "source": [
    "\n",
    "endpoint = \"/runs/stream\"\n",
    "payload = {\n",
    "    \"assistant_id\": agent_id,\n",
    "    \"input\": {\n",
    "        \"messages\": [\n",
    "            (\"human\", \"how much quantity do we purchase from each supplier?\")\n",
    "        ]\n",
    "    }\n",
    "}\n",
    "response = requests.post(my_url+endpoint, json=payload)"
   ]
  },
  {
   "cell_type": "code",
   "execution_count": 17,
   "metadata": {},
   "outputs": [
    {
     "data": {
      "text/markdown": [
       "The data query has been successfully executed, and here are the total quantities purchased from each supplier:\n",
       "\n",
       "| Supplier          | Total Quantity |\n",
       "|-------------------|----------------|\n",
       "| Easy Riders       | 48,639         |\n",
       "| Vee Bike          | 192,102        |\n",
       "| Road Runner       | 18,594         |\n",
       "| Brews Brothers     | 65,048         |\n",
       "| Power Bikes       | 48,427         |\n",
       "| AllTech Group     | 31,519         |\n",
       "| River Systems     | 75,822         |\n",
       "| Greenholt Group   | 80,762         |\n",
       "| Vivid Technologies | 43,216         |\n",
       "| Roller Coaster    | 39,685         |\n",
       "\n",
       "This data reflects the total quantities purchased from each supplier based on the available records. If you need further analysis or insights, please let me know!"
      ],
      "text/plain": [
       "<IPython.core.display.Markdown object>"
      ]
     },
     "metadata": {},
     "output_type": "display_data"
    }
   ],
   "source": [
    "def pretty_print_tab_agent_response(agent_output):\n",
    "    current_event = None\n",
    "    for line in agent_output.iter_lines():\n",
    "        if not line:\n",
    "            continue\n",
    "    \n",
    "        decoded = line.decode(\"utf-8\")\n",
    "    \n",
    "        if decoded.startswith(\"event:\"):\n",
    "            current_event = decoded.replace(\"event: \", \"\").strip()\n",
    "        elif decoded.startswith(\"data:\"):\n",
    "            data_json = decoded.replace(\"data: \", \"\").strip()\n",
    "    \n",
    "            try:\n",
    "                data = json.loads(data_json)\n",
    "            except json.JSONDecodeError:\n",
    "                print(f\"⚠️ Couldn't parse JSON: {data_json}\")\n",
    "                continue\n",
    "    \n",
    "            # 🎯 Final AI response usually in 'values' event\n",
    "            if current_event == \"values\":\n",
    "                messages = data.get(\"messages\", [])\n",
    "                for msg in messages:\n",
    "                    if msg.get(\"type\") == \"ai\" and msg.get(\"content\"):\n",
    "                        return(display(Markdown(msg[\"content\"])))\n",
    "\n",
    "pretty_print_tab_agent_response(response)"
   ]
  },
  {
   "cell_type": "code",
   "execution_count": null,
   "metadata": {},
   "outputs": [],
   "source": []
  }
 ],
 "metadata": {
  "kernelspec": {
   "display_name": "Python 3",
   "language": "python",
   "name": "python3"
  },
  "language_info": {
   "codemirror_mode": {
    "name": "ipython",
    "version": 3
   },
   "file_extension": ".py",
   "mimetype": "text/x-python",
   "name": "python",
   "nbconvert_exporter": "python",
   "pygments_lexer": "ipython3",
   "version": "3.12.2"
  }
 },
 "nbformat": 4,
 "nbformat_minor": 4
}
