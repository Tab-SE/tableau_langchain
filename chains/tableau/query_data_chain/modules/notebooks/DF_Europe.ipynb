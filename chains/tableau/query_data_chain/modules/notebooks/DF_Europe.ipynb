{
 "cells": [
  {
   "cell_type": "code",
   "execution_count": 2,
   "id": "3242408b-2483-4285-b3ed-ab8ccb00aa36",
   "metadata": {},
   "outputs": [
    {
     "name": "stdout",
     "output_type": "stream",
     "text": [
      "Collecting pandas\n",
      "  Downloading pandas-2.2.3-cp312-cp312-macosx_10_9_x86_64.whl.metadata (89 kB)\n",
      "\u001b[2K     \u001b[90m━━━━━━━━━━━━━━━━━━━━━━━━━━━━━━━━━━━━━━━━\u001b[0m \u001b[32m89.9/89.9 kB\u001b[0m \u001b[31m1.5 MB/s\u001b[0m eta \u001b[36m0:00:00\u001b[0ma \u001b[36m0:00:01\u001b[0m\n",
      "\u001b[?25hRequirement already satisfied: numpy>=1.26.0 in /usr/local/Caskroom/mambaforge/base/envs/tableau_langchain/lib/python3.12/site-packages (from pandas) (1.26.4)\n",
      "Requirement already satisfied: python-dateutil>=2.8.2 in /usr/local/Caskroom/mambaforge/base/envs/tableau_langchain/lib/python3.12/site-packages (from pandas) (2.9.0)\n",
      "Requirement already satisfied: pytz>=2020.1 in /usr/local/Caskroom/mambaforge/base/envs/tableau_langchain/lib/python3.12/site-packages (from pandas) (2024.2)\n",
      "Collecting tzdata>=2022.7 (from pandas)\n",
      "  Downloading tzdata-2024.2-py2.py3-none-any.whl.metadata (1.4 kB)\n",
      "Requirement already satisfied: six>=1.5 in /usr/local/Caskroom/mambaforge/base/envs/tableau_langchain/lib/python3.12/site-packages (from python-dateutil>=2.8.2->pandas) (1.16.0)\n",
      "Downloading pandas-2.2.3-cp312-cp312-macosx_10_9_x86_64.whl (12.5 MB)\n",
      "\u001b[2K   \u001b[90m━━━━━━━━━━━━━━━━━━━━━━━━━━━━━━━━━━━━━━━━\u001b[0m \u001b[32m12.5/12.5 MB\u001b[0m \u001b[31m9.2 MB/s\u001b[0m eta \u001b[36m0:00:00\u001b[0m00:01\u001b[0m00:01\u001b[0mm\n",
      "\u001b[?25hDownloading tzdata-2024.2-py2.py3-none-any.whl (346 kB)\n",
      "\u001b[2K   \u001b[90m━━━━━━━━━━━━━━━━━━━━━━━━━━━━━━━━━━━━━━━━\u001b[0m \u001b[32m346.6/346.6 kB\u001b[0m \u001b[31m6.2 MB/s\u001b[0m eta \u001b[36m0:00:00\u001b[0mta \u001b[36m0:00:01\u001b[0m\n",
      "\u001b[?25hInstalling collected packages: tzdata, pandas\n",
      "Successfully installed pandas-2.2.3 tzdata-2024.2\n",
      "Note: you may need to restart the kernel to use updated packages.\n"
     ]
    }
   ],
   "source": [
    "#pip install pandas"
   ]
  },
  {
   "cell_type": "code",
   "execution_count": 30,
   "id": "119b06ef-8243-4f09-9e54-826577eba973",
   "metadata": {},
   "outputs": [],
   "source": [
    "def read():\n",
    "    url = read_metadata_url\n",
    "    payload = json.dumps({\n",
    "        \"datasource\": {\n",
    "            \"datasourceLuid\": datasource\n",
    "    }\n",
    "    })\n",
    "    headers = {\n",
    "    'X-Tableau-Auth': token,\n",
    "    'Content-Type': 'application/json'\n",
    "    }\n",
    "    response = requests.request(\"POST\", url, headers=headers, data=payload)\n",
    "\n",
    "    # Check if the request was successful (status code 200)\n",
    "    if response.status_code == 200:\n",
    "        # Print the response data\n",
    "        #print(\"Response Data:\")\n",
    "        #print(response.json())\n",
    "        data = response.json()['data']\n",
    "        # Create a pandas DataFrame from the JSON data\n",
    "        #df = pd.DataFrame(data)\n",
    "\n",
    "        # Display the first few rows of the DataFrame\n",
    "        #print(\"Table view of data from the public REST API:\")\n",
    "        #print(df.head())\n",
    "        #print(df.all())\n",
    "        return data\n",
    "        #display(df.head())\n",
    "    else:\n",
    "        print(\"Failed to fetch data from the API. Status code:\", response.status_code)\n",
    "        print(response.text)\n",
    "datasource_metadata = read()\n"
   ]
  },
  {
   "cell_type": "code",
   "execution_count": 28,
   "id": "c3988abb-23bf-407a-8562-abab5c755f94",
   "metadata": {},
   "outputs": [],
   "source": [
    "def send(query):\n",
    "    url = query_datasource\n",
    "    payload = json.dumps({\n",
    "        \"datasource\": {\n",
    "            \"datasourceLuid\": datasource\n",
    "    },\n",
    "        \"query\": query\n",
    "    })\n",
    "\n",
    "    headers = {\n",
    "    'X-Tableau-Auth': token,\n",
    "    'Content-Type': 'application/json'\n",
    "    }\n",
    "    response = requests.request(\"POST\", url, headers=headers, data=payload)\n",
    "\n",
    "    # Check if the request was successful (status code 200)\n",
    "    if response.status_code == 200:\n",
    "        # Print the response data\n",
    "        #print(\"Response Data:\")\n",
    "        #print(response.json())\n",
    "        data = response.json()['data']\n",
    "        print(data)\n",
    "        # Create a pandas DataFrame from the JSON data\n",
    "        df= data\n",
    "        #df = pd.DataFrame(data)\n",
    "        df\n",
    "\n",
    "        # Display the first few rows of the DataFrame\n",
    "        #print(\"Table view of data from the public REST API:\")\n",
    "        #print(df.head())\n",
    "        #print(df.all())\n",
    "        return df\n",
    "        #display(df.head())\n",
    "    else:\n",
    "        print(\"Failed to fetch data from the API. Status code:\", response.status_code)\n",
    "        print(response.text)"
   ]
  },
  {
   "cell_type": "code",
   "execution_count": 29,
   "id": "785c33a9-2c75-4348-b135-a26edc887d6b",
   "metadata": {},
   "outputs": [
    {
     "name": "stdout",
     "output_type": "stream",
     "text": [
      "[{'Category': 'Technology', 'SUM(Sales)': 839893.2789999967}, {'Category': 'Furniture', 'SUM(Sales)': 754747.7612999984}, {'Category': 'Office Supplies', 'SUM(Sales)': 731893.3140000021}]\n"
     ]
    },
    {
     "data": {
      "text/plain": [
       "[{'Category': 'Technology', 'SUM(Sales)': 839893.2789999967},\n",
       " {'Category': 'Furniture', 'SUM(Sales)': 754747.7612999984},\n",
       " {'Category': 'Office Supplies', 'SUM(Sales)': 731893.3140000021}]"
      ]
     },
     "execution_count": 29,
     "metadata": {},
     "output_type": "execute_result"
    }
   ],
   "source": [
    "query = {\n",
    "            \"fields\": [\n",
    "                {\n",
    "                    \"fieldCaption\": \"Category\"\n",
    "                },{\n",
    "                    \"fieldCaption\": \"Sales\",\n",
    "                    \"function\": \"SUM\"\n",
    "                }\n",
    "            ]\n",
    "          }\n",
    "send(query)"
   ]
  },
  {
   "cell_type": "code",
   "execution_count": null,
   "id": "fbbad4bb-99f5-4f26-91d4-27dcf54402d5",
   "metadata": {},
   "outputs": [],
   "source": [
    "def get_utterance():\n",
    "  query = input('what would you like to know about your data? reply stop if you are done.')\n",
    "  return query"
   ]
  },
  {
   "cell_type": "code",
   "execution_count": 2,
   "id": "a78f92d3-f5e6-4294-8bc5-69d85d20e7af",
   "metadata": {},
   "outputs": [],
   "source": [
    "from langchain_openai import ChatOpenAI\n",
    "from langchain.agents.agent_types import AgentType\n",
    "from langchain_core.prompts import ChatPromptTemplate\n",
    "from langchain_core.prompts import PromptTemplate\n",
    "from langchain_core.messages import HumanMessage, SystemMessage\n",
    "from langchain_core.output_parsers import StrOutputParser\n",
    "from dotenv import load_dotenv\n",
    "#import pandas as pd\n",
    "import os\n",
    "import sys\n",
    "import json\n",
    "import requests\n",
    "import re\n",
    "from dotenv import load_dotenv\n",
    "load_dotenv('/Users/joe.constantino/Desktop/playground/tableau_langchain/.env')\n",
    "# project_root = os.path.abspath(os.path.join(os.getcwd(), '..'))\n",
    "# modules_path = os.path.join(project_root,'chains','tableau','query_data_chain')\n",
    "\n",
    "# # Add to sys.path if not already present\n",
    "# if modules_path not in sys.path:\n",
    "#     sys.path.append(modules_path)\n",
    "\n",
    "\n",
    "\n",
    "from langchain import hub\n",
    "from langchain.agents import AgentExecutor"
   ]
  },
  {
   "cell_type": "code",
   "execution_count": 2,
   "id": "a596225e-bedf-4d10-a05f-5cca4cf24d4f",
   "metadata": {},
   "outputs": [
    {
     "name": "stdout",
     "output_type": "stream",
     "text": [
      "http://ec2amaz-62te4cv.tsi.lan/api/v1/vizql-data-service/read-metadata\n"
     ]
    }
   ],
   "source": [
    "#read in environment variables\n",
    "datasource = os.getenv('DATASOURCE_LUID')\n",
    "read_metadata_url = os.getenv('READ_METADATA')\n",
    "query_datasource = os.getenv('QUERY_DATASOURCE')\n",
    "token = os.getenv('AUTH_TOKEN')\n",
    "print(read_metadata_url)"
   ]
  },
  {
   "cell_type": "code",
   "execution_count": 3,
   "id": "aa36c1db-fe49-4ceb-a9ff-67f02045c623",
   "metadata": {},
   "outputs": [
    {
     "name": "stdout",
     "output_type": "stream",
     "text": [
      "Current Path: /Users/joe.constantino/Desktop/playground/tableau_langchain/notebooks\n"
     ]
    }
   ],
   "source": [
    "current_path = os.getcwd()\n",
    "print(\"Current Path:\", current_path)"
   ]
  },
  {
   "cell_type": "code",
   "execution_count": 5,
   "id": "a8c25c64-5786-475f-8d7e-145d440c204b",
   "metadata": {},
   "outputs": [
    {
     "ename": "ModuleNotFoundError",
     "evalue": "No module named 'hbiQuery'",
     "output_type": "error",
     "traceback": [
      "\u001b[0;31m---------------------------------------------------------------------------\u001b[0m",
      "\u001b[0;31mModuleNotFoundError\u001b[0m                       Traceback (most recent call last)",
      "Cell \u001b[0;32mIn[5], line 1\u001b[0m\n\u001b[0;32m----> 1\u001b[0m \u001b[38;5;28;01mfrom\u001b[39;00m \u001b[38;5;21;01mhbiQuery\u001b[39;00m \u001b[38;5;28;01mimport\u001b[39;00m get_data\n\u001b[1;32m      2\u001b[0m \u001b[38;5;28;01mfrom\u001b[39;00m \u001b[38;5;21;01mreadMetadata\u001b[39;00m \u001b[38;5;28;01mimport\u001b[39;00m read\n\u001b[1;32m      3\u001b[0m \u001b[38;5;28;01mfrom\u001b[39;00m \u001b[38;5;21;01mprompts\u001b[39;00m\u001b[38;5;21;01m.\u001b[39;00m\u001b[38;5;21;01mnlq_to_vds\u001b[39;00m \u001b[38;5;28;01mimport\u001b[39;00m prompt\n",
      "\u001b[0;31mModuleNotFoundError\u001b[0m: No module named 'hbiQuery'"
     ]
    }
   ],
   "source": [
    "from hbiQuery import get_data\n",
    "from readMetadata import read\n",
    "from prompts.nlq_to_vds import prompt\n",
    "import json, requests, os\n",
    "from setPrompt import instantiate_prompt, get_values\n",
    "#prompt = instantiate_prompt()"
   ]
  },
  {
   "cell_type": "code",
   "execution_count": 6,
   "id": "ce0b993b-5928-49c8-aff3-3f8629eeba91",
   "metadata": {},
   "outputs": [
    {
     "ename": "NameError",
     "evalue": "name 'read' is not defined",
     "output_type": "error",
     "traceback": [
      "\u001b[0;31m---------------------------------------------------------------------------\u001b[0m",
      "\u001b[0;31mNameError\u001b[0m                                 Traceback (most recent call last)",
      "Cell \u001b[0;32mIn[6], line 1\u001b[0m\n\u001b[0;32m----> 1\u001b[0m metadata \u001b[38;5;241m=\u001b[39m \u001b[43mread\u001b[49m(read_url\u001b[38;5;241m=\u001b[39mread_metadata_url, datasource_luid\u001b[38;5;241m=\u001b[39mdatasource, auth_secret\u001b[38;5;241m=\u001b[39mtoken)\n",
      "\u001b[0;31mNameError\u001b[0m: name 'read' is not defined"
     ]
    }
   ],
   "source": [
    "metadata = read(read_url=read_metadata_url, datasource_luid=datasource, auth_secret=token)"
   ]
  },
  {
   "cell_type": "code",
   "execution_count": 19,
   "id": "8b6bdf6f-2086-49f6-9db9-b48ddd78a561",
   "metadata": {},
   "outputs": [],
   "source": [
    "# for field in metadata:\n",
    "#     del field['fieldName']\n",
    "#     if field['dataType'] == 'STRING':\n",
    "#         string_values = get_values(field['fieldCaption'])\n",
    "#         field['sampleValues'] = string_values\n",
    "# print(metadata)"
   ]
  },
  {
   "cell_type": "code",
   "execution_count": 23,
   "id": "3a4b4326-dbca-4fdb-af62-8f88d8a2b2db",
   "metadata": {},
   "outputs": [
    {
     "name": "stdout",
     "output_type": "stream",
     "text": [
      "{'fieldName': 'Calculation_1368249927221915648', 'fieldCaption': 'Profit Ratio', 'dataType': 'REAL', 'logicalTableId': ''}\n",
      "{'fieldName': 'Category', 'fieldCaption': 'Category', 'dataType': 'STRING', 'logicalTableId': 'Orders_ECFCA1FB690A41FE803BC071773BA862'}\n",
      "{'fieldName': 'City', 'fieldCaption': 'City', 'dataType': 'STRING', 'logicalTableId': 'Orders_ECFCA1FB690A41FE803BC071773BA862'}\n",
      "{'fieldName': 'Country/Region', 'fieldCaption': 'Country/Region', 'dataType': 'STRING', 'logicalTableId': 'Orders_ECFCA1FB690A41FE803BC071773BA862'}\n",
      "{'fieldName': 'Customer Name', 'fieldCaption': 'Customer Name', 'dataType': 'STRING', 'logicalTableId': 'Orders_ECFCA1FB690A41FE803BC071773BA862'}\n",
      "{'fieldName': 'Discount', 'fieldCaption': 'Discount', 'dataType': 'REAL', 'logicalTableId': 'Orders_ECFCA1FB690A41FE803BC071773BA862'}\n",
      "{'fieldName': 'Order Date', 'fieldCaption': 'Order Date', 'dataType': 'DATE', 'logicalTableId': 'Orders_ECFCA1FB690A41FE803BC071773BA862'}\n",
      "{'fieldName': 'Order ID', 'fieldCaption': 'Order ID', 'dataType': 'STRING', 'logicalTableId': 'Orders_ECFCA1FB690A41FE803BC071773BA862'}\n",
      "{'fieldName': 'Postal Code', 'fieldCaption': 'Postal Code', 'dataType': 'STRING', 'logicalTableId': 'Orders_ECFCA1FB690A41FE803BC071773BA862'}\n",
      "{'fieldName': 'Product Name (group)', 'fieldCaption': 'Manufacturer', 'dataType': 'STRING', 'logicalTableId': 'Orders_ECFCA1FB690A41FE803BC071773BA862'}\n",
      "{'fieldName': 'Product Name', 'fieldCaption': 'Product Name', 'dataType': 'STRING', 'logicalTableId': 'Orders_ECFCA1FB690A41FE803BC071773BA862'}\n",
      "{'fieldName': 'Profit', 'fieldCaption': 'Profit', 'dataType': 'REAL', 'logicalTableId': 'Orders_ECFCA1FB690A41FE803BC071773BA862'}\n",
      "{'fieldName': 'Quantity', 'fieldCaption': 'Quantity', 'dataType': 'INTEGER', 'logicalTableId': 'Orders_ECFCA1FB690A41FE803BC071773BA862'}\n",
      "{'fieldName': 'Region', 'fieldCaption': 'Region', 'dataType': 'STRING', 'logicalTableId': 'Orders_ECFCA1FB690A41FE803BC071773BA862'}\n",
      "{'fieldName': 'Regional Manager', 'fieldCaption': 'Regional Manager', 'dataType': 'STRING', 'logicalTableId': 'People_D73023733B004CC1B3CB1ACF62F4A965'}\n",
      "{'fieldName': 'Returned', 'fieldCaption': 'Returned', 'dataType': 'STRING', 'logicalTableId': 'Returns_2AA0FE4D737A4F63970131D0E7480A03'}\n",
      "{'fieldName': 'Sales', 'fieldCaption': 'Sales', 'dataType': 'REAL', 'logicalTableId': 'Orders_ECFCA1FB690A41FE803BC071773BA862'}\n",
      "{'fieldName': 'Segment', 'fieldCaption': 'Segment', 'dataType': 'STRING', 'logicalTableId': 'Orders_ECFCA1FB690A41FE803BC071773BA862'}\n",
      "{'fieldName': 'Ship Date', 'fieldCaption': 'Ship Date', 'dataType': 'DATE', 'logicalTableId': 'Orders_ECFCA1FB690A41FE803BC071773BA862'}\n",
      "{'fieldName': 'Ship Mode', 'fieldCaption': 'Ship Mode', 'dataType': 'STRING', 'logicalTableId': 'Orders_ECFCA1FB690A41FE803BC071773BA862'}\n",
      "{'fieldName': 'State/Province', 'fieldCaption': 'State/Province', 'dataType': 'STRING', 'logicalTableId': 'Orders_ECFCA1FB690A41FE803BC071773BA862'}\n",
      "{'fieldName': 'Sub-Category', 'fieldCaption': 'Sub-Category', 'dataType': 'STRING', 'logicalTableId': 'Orders_ECFCA1FB690A41FE803BC071773BA862'}\n"
     ]
    }
   ],
   "source": [
    "prompt = instantiate_prompt(metadata = metadata)"
   ]
  },
  {
   "cell_type": "code",
   "execution_count": 22,
   "id": "d148109b-6b87-445b-b101-7ff8f6df5495",
   "metadata": {},
   "outputs": [],
   "source": [
    "prompt"
   ]
  },
  {
   "cell_type": "code",
   "execution_count": null,
   "id": "7e814f92-9606-4f16-94e7-f596113521ac",
   "metadata": {},
   "outputs": [],
   "source": [
    "active_utterance = get_utterance()\n",
    "\n",
    "while (active_utterance != 'stop'):\n",
    "  llm = ChatOpenAI(model=os.getenv['AGENT_MODEL'], temperature=0)\n",
    "  active_prompt_template = ChatPromptTemplate.from_messages([\n",
    "      SystemMessage(content=prompt),\n",
    "      (\"user\", \"{utterance}\")])\n",
    "  prompt_value = active_prompt_template.invoke(\n",
    "      {\n",
    "          \"utterance\": active_utterance\n",
    "      }\n",
    "  )\n",
    "  output_parser = StrOutputParser()\n",
    "  chain = active_prompt_template | llm | output_parser\n",
    "  output = chain.invoke(active_utterance)"
   ]
  },
  {
   "cell_type": "code",
   "execution_count": null,
   "id": "d2fc8adf-e0fd-41c7-a81f-92d92513bcfd",
   "metadata": {},
   "outputs": [],
   "source": []
  },
  {
   "cell_type": "code",
   "execution_count": null,
   "id": "ee0b6fbf-f668-4ba4-beb6-aa1166196579",
   "metadata": {},
   "outputs": [],
   "source": []
  },
  {
   "cell_type": "code",
   "execution_count": null,
   "id": "e629832f-5a8a-4f4a-85b6-fe7d8aee5e8a",
   "metadata": {},
   "outputs": [],
   "source": []
  },
  {
   "cell_type": "code",
   "execution_count": null,
   "id": "03142f2b-0134-498e-bbc2-d7bcab02ec11",
   "metadata": {},
   "outputs": [],
   "source": []
  },
  {
   "cell_type": "code",
   "execution_count": null,
   "id": "e69d86a0-d62d-422d-ae50-3685867087b2",
   "metadata": {},
   "outputs": [],
   "source": []
  },
  {
   "cell_type": "code",
   "execution_count": 16,
   "id": "acf4cfda-c33a-4bd4-9822-41f2e3397890",
   "metadata": {},
   "outputs": [],
   "source": [
    "import sys\n",
    "import os\n",
    "\n",
    "# path to the directory you want to import from\n",
    "tools_path = os.path.expanduser('~/Desktop/playground/tableau_langchain/tools/tableau')\n",
    "\n",
    "# Add the directory to the Python path\n",
    "if tools_path not in sys.path:\n",
    "    sys.path.append(tools_path)\n",
    "\n",
    "from query_data import QueryTableauData"
   ]
  },
  {
   "cell_type": "code",
   "execution_count": 30,
   "id": "d9554677-62d0-40a4-b457-391b44275494",
   "metadata": {},
   "outputs": [],
   "source": [
    "query_tool = QueryTableauData()\n",
    "input_params = {\n",
    "    \"pat_name\": token,\n",
    "    \"pat_key\": secret,\n",
    "    \"tab_server_url\": tab_server_url,\n",
    "    \"tab_site\": tab_site,\n",
    "    \"datasource_id\": datasource,\n",
    "    \"metadata\": {\"field_info\": \"details\"},\n",
    "    \"endpoint\": \"https://api.tableau.com/your_endpoint\",\n",
    "    \"query\": \"What are sales per region?\",\n",
    "}"
   ]
  },
  {
   "cell_type": "code",
   "execution_count": 31,
   "id": "86b4179d-98d7-41f2-a255-e7b9373df15e",
   "metadata": {},
   "outputs": [
    {
     "ename": "TypeError",
     "evalue": "BaseTool.run() missing 1 required positional argument: 'tool_input'",
     "output_type": "error",
     "traceback": [
      "\u001b[0;31m---------------------------------------------------------------------------\u001b[0m",
      "\u001b[0;31mTypeError\u001b[0m                                 Traceback (most recent call last)",
      "Cell \u001b[0;32mIn[31], line 1\u001b[0m\n\u001b[0;32m----> 1\u001b[0m output \u001b[38;5;241m=\u001b[39m \u001b[43mquery_tool\u001b[49m\u001b[38;5;241;43m.\u001b[39;49m\u001b[43mrun\u001b[49m\u001b[43m(\u001b[49m\u001b[38;5;241;43m*\u001b[39;49m\u001b[38;5;241;43m*\u001b[39;49m\u001b[43minput_params\u001b[49m\u001b[43m)\u001b[49m\n\u001b[1;32m      3\u001b[0m \u001b[38;5;66;03m# Print the output\u001b[39;00m\n\u001b[1;32m      4\u001b[0m \u001b[38;5;28mprint\u001b[39m(output)\n",
      "\u001b[0;31mTypeError\u001b[0m: BaseTool.run() missing 1 required positional argument: 'tool_input'"
     ]
    }
   ],
   "source": [
    "output = query_tool.run(**input_params)\n",
    "\n",
    "# Print the output\n",
    "print(output)"
   ]
  },
  {
   "cell_type": "code",
   "execution_count": 35,
   "id": "b5e49f7b-143e-4a10-bba7-3ea8e6803166",
   "metadata": {},
   "outputs": [],
   "source": [
    "tools_path = os.path.expanduser('~/Desktop/playground/tableau_langchain/chains/tableau/query_data_chain/')\n",
    "\n",
    "# Add the directory to the Python path\n",
    "if tools_path not in sys.path:\n",
    "    sys.path.append(tools_path)\n",
    "\n",
    "import main"
   ]
  },
  {
   "cell_type": "code",
   "execution_count": 37,
   "id": "d5890748-7847-4124-abb4-b416f0a896af",
   "metadata": {},
   "outputs": [
    {
     "name": "stderr",
     "output_type": "stream",
     "text": [
      "usage: ipykernel_launcher.py [-h] [--mode {interactive,api}] [--host HOST]\n",
      "                             [--port PORT]\n",
      "ipykernel_launcher.py: error: unrecognized arguments: -f /Users/joe.constantino/Library/Jupyter/runtime/kernel-ddaf1182-14e6-4bad-b7ba-5a956521e424.json\n"
     ]
    },
    {
     "ename": "SystemExit",
     "evalue": "2",
     "output_type": "error",
     "traceback": [
      "An exception has occurred, use %tb to see the full traceback.\n",
      "\u001b[0;31mSystemExit\u001b[0m\u001b[0;31m:\u001b[0m 2\n"
     ]
    },
    {
     "name": "stderr",
     "output_type": "stream",
     "text": [
      "/usr/local/Caskroom/mambaforge/base/envs/tableau_langchain/lib/python3.12/site-packages/IPython/core/interactiveshell.py:3585: UserWarning: To exit: use 'exit', 'quit', or Ctrl-D.\n",
      "  warn(\"To exit: use 'exit', 'quit', or Ctrl-D.\", stacklevel=1)\n"
     ]
    }
   ],
   "source": [
    "main.main()"
   ]
  },
  {
   "cell_type": "code",
   "execution_count": null,
   "id": "ac3ee064-f3d5-4e9b-b52b-450b25c34319",
   "metadata": {},
   "outputs": [],
   "source": []
  }
 ],
 "metadata": {
  "kernelspec": {
   "display_name": "Python [conda env:tableau_langchain] *",
   "language": "python",
   "name": "conda-env-tableau_langchain-py"
  },
  "language_info": {
   "codemirror_mode": {
    "name": "ipython",
    "version": 3
   },
   "file_extension": ".py",
   "mimetype": "text/x-python",
   "name": "python",
   "nbconvert_exporter": "python",
   "pygments_lexer": "ipython3",
   "version": "3.12.2"
  }
 },
 "nbformat": 4,
 "nbformat_minor": 5
}
