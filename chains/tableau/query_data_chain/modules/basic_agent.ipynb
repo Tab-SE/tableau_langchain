{
 "cells": [
  {
   "cell_type": "code",
   "execution_count": 2,
   "id": "f6f12c30-1f63-4182-b30e-20e4e036adce",
   "metadata": {},
   "outputs": [],
   "source": [
    "import os\n",
    "import json\n",
    "from dotenv import load_dotenv\n",
    "load_dotenv('/Users/joe.constantino/Desktop/playground/tableau_langchain/.env')\n",
    "\n",
    "#base langchain library imports\n",
    "from langchain.tools import tool\n",
    "from langchain_openai import ChatOpenAI\n",
    "from langchain.agents import initialize_agent, AgentType, create_tool_calling_agent, AgentExecutor\n",
    "\n",
    "#tableau_langchain imports\n",
    "from readMetadata import read\n",
    "from setPrompt import instantiate_prompt, get_values\n",
    "from getDataTool import get_data"
   ]
  },
  {
   "cell_type": "code",
   "execution_count": 3,
   "id": "99ffef42-6127-4a45-a1bf-fd96663e318c",
   "metadata": {},
   "outputs": [],
   "source": [
    "#read in the environment varibales to query a Tableau Published Data Source from a target Tableau Cloud Site or Server Instance\n",
    "datasource = os.getenv('DATASOURCE_LUID')\n",
    "read_metadata_url = os.getenv('READ_METADATA')\n",
    "query_datasource = os.getenv('QUERY_DATASOURCE')\n",
    "token = os.getenv('AUTH_TOKEN')"
   ]
  },
  {
   "cell_type": "code",
   "execution_count": 4,
   "id": "cf9dd917-08f3-40fe-9030-8381a446dbb7",
   "metadata": {},
   "outputs": [
    {
     "name": "stdout",
     "output_type": "stream",
     "text": [
      "reading in your field metadata...\n",
      "looking up field values...\n",
      "prompt is ready!\n"
     ]
    }
   ],
   "source": [
    "## Use the read module to pull in the necessary metadata from your target Tableau Published Data Source. This will module also augment the\n",
    "## base metadata provided by the read_metadata endpoint by removing unneccesary fields and adding sample field values to each string field.\n",
    "metadata = read(read_url=read_metadata_url, datasource_luid=datasource, auth_secret=token)\n",
    "\n",
    "# use the instaniate_prompt module to add the data model metadata to the nlq_to_vds prompt\n",
    "prompt = instantiate_prompt(metadata = metadata)"
   ]
  },
  {
   "cell_type": "code",
   "execution_count": 5,
   "id": "1181d77f-ea65-49e3-945f-e25cd7a6a385",
   "metadata": {},
   "outputs": [
    {
     "name": "stderr",
     "output_type": "stream",
     "text": [
      "/var/folders/3t/f2z2c6_n3951jmt86v5rvgp80000gp/T/ipykernel_54741/1583175394.py:5: LangChainDeprecationWarning: The function `initialize_agent` was deprecated in LangChain 0.1.0 and will be removed in 1.0. Use :meth:`~Use new agent constructor methods like create_react_agent, create_json_agent, create_structured_chat_agent, etc.` instead.\n",
      "  tableauHeadlessAgent = initialize_agent(\n",
      "/var/folders/3t/f2z2c6_n3951jmt86v5rvgp80000gp/T/ipykernel_54741/1583175394.py:13: LangChainDeprecationWarning: The method `Chain.run` was deprecated in langchain 0.1.0 and will be removed in 1.0. Use :meth:`~invoke` instead.\n",
      "  response = tableauHeadlessAgent.run(\"what are sales per region?\")\n"
     ]
    },
    {
     "name": "stdout",
     "output_type": "stream",
     "text": [
      "\n",
      "\n",
      "\u001b[1m> Entering new AgentExecutor chain...\u001b[0m\n",
      "\u001b[32;1m\u001b[1;3m\n",
      "Invoking: `get_data` with `{'query': 'sales per region'}`\n",
      "\n",
      "\n",
      "\u001b[0m\u001b[36;1m\u001b[1;3m[{'Region': 'West', 'SUM(Sales)': 739813.61}, {'Region': 'East', 'SUM(Sales)': 691828.17}, {'Region': 'Central', 'SUM(Sales)': 503170.67}, {'Region': 'South', 'SUM(Sales)': 391721.91}]\u001b[0m\u001b[32;1m\u001b[1;3mThe sales per region are as follows:\n",
      "\n",
      "- **West**: $739,813.61\n",
      "- **East**: $691,828.17\n",
      "- **Central**: $503,170.67\n",
      "- **South**: $391,721.91\u001b[0m\n",
      "\n",
      "\u001b[1m> Finished chain.\u001b[0m\n",
      "The sales per region are as follows:\n",
      "\n",
      "- **West**: $739,813.61\n",
      "- **East**: $691,828.17\n",
      "- **Central**: $503,170.67\n",
      "- **South**: $391,721.91\n"
     ]
    }
   ],
   "source": [
    "# Initialize an LLM and an agent with the get_data tool to answer natural language questions with Tableau Published Datasources\n",
    "llm = ChatOpenAI(model='gpt-4o-mini', temperature=0)\n",
    "tools = [get_data]\n",
    "\n",
    "tableauHeadlessAgent = initialize_agent(\n",
    "    tools,\n",
    "    llm,\n",
    "    agent=AgentType.OPENAI_FUNCTIONS,  # Use OpenAI's function calling\n",
    "    verbose=True\n",
    ")\n",
    "\n",
    "# Run the agent\n",
    "response = tableauHeadlessAgent.run(\"what are sales per region?\")\n",
    "print(response)"
   ]
  },
  {
   "cell_type": "markdown",
   "id": "f00c3467-0924-4bc1-a441-44b5cd44405d",
   "metadata": {},
   "source": [
    "End here\n",
    "\n",
    "The cells below are experimental cells to run the agent with a model running locally using ollama"
   ]
  },
  {
   "cell_type": "code",
   "execution_count": 4,
   "id": "365f1c94-f5bd-41a1-9c7d-21d268fcbaa9",
   "metadata": {},
   "outputs": [
    {
     "name": "stdout",
     "output_type": "stream",
     "text": [
      "Requirement already satisfied: langchain-ollama in /usr/local/Caskroom/mambaforge/base/envs/tableau_langchain/lib/python3.12/site-packages (0.2.0)\n",
      "Requirement already satisfied: langchain-core<0.4.0,>=0.3.0 in /usr/local/Caskroom/mambaforge/base/envs/tableau_langchain/lib/python3.12/site-packages (from langchain-ollama) (0.3.15)\n",
      "Requirement already satisfied: ollama<1,>=0.3.0 in /usr/local/Caskroom/mambaforge/base/envs/tableau_langchain/lib/python3.12/site-packages (from langchain-ollama) (0.3.3)\n",
      "Requirement already satisfied: PyYAML>=5.3 in /usr/local/Caskroom/mambaforge/base/envs/tableau_langchain/lib/python3.12/site-packages (from langchain-core<0.4.0,>=0.3.0->langchain-ollama) (6.0.2)\n",
      "Requirement already satisfied: jsonpatch<2.0,>=1.33 in /usr/local/Caskroom/mambaforge/base/envs/tableau_langchain/lib/python3.12/site-packages (from langchain-core<0.4.0,>=0.3.0->langchain-ollama) (1.33)\n",
      "Requirement already satisfied: langsmith<0.2.0,>=0.1.125 in /usr/local/Caskroom/mambaforge/base/envs/tableau_langchain/lib/python3.12/site-packages (from langchain-core<0.4.0,>=0.3.0->langchain-ollama) (0.1.137)\n",
      "Requirement already satisfied: packaging<25,>=23.2 in /usr/local/Caskroom/mambaforge/base/envs/tableau_langchain/lib/python3.12/site-packages (from langchain-core<0.4.0,>=0.3.0->langchain-ollama) (24.1)\n",
      "Requirement already satisfied: pydantic<3.0.0,>=2.5.2 in /usr/local/Caskroom/mambaforge/base/envs/tableau_langchain/lib/python3.12/site-packages (from langchain-core<0.4.0,>=0.3.0->langchain-ollama) (2.9.2)\n",
      "Requirement already satisfied: tenacity!=8.4.0,<10.0.0,>=8.1.0 in /usr/local/Caskroom/mambaforge/base/envs/tableau_langchain/lib/python3.12/site-packages (from langchain-core<0.4.0,>=0.3.0->langchain-ollama) (9.0.0)\n",
      "Requirement already satisfied: typing-extensions>=4.7 in /usr/local/Caskroom/mambaforge/base/envs/tableau_langchain/lib/python3.12/site-packages (from langchain-core<0.4.0,>=0.3.0->langchain-ollama) (4.12.2)\n",
      "Requirement already satisfied: httpx<0.28.0,>=0.27.0 in /usr/local/Caskroom/mambaforge/base/envs/tableau_langchain/lib/python3.12/site-packages (from ollama<1,>=0.3.0->langchain-ollama) (0.27.2)\n",
      "Requirement already satisfied: anyio in /usr/local/Caskroom/mambaforge/base/envs/tableau_langchain/lib/python3.12/site-packages (from httpx<0.28.0,>=0.27.0->ollama<1,>=0.3.0->langchain-ollama) (4.6.2.post1)\n",
      "Requirement already satisfied: certifi in /usr/local/Caskroom/mambaforge/base/envs/tableau_langchain/lib/python3.12/site-packages (from httpx<0.28.0,>=0.27.0->ollama<1,>=0.3.0->langchain-ollama) (2024.8.30)\n",
      "Requirement already satisfied: httpcore==1.* in /usr/local/Caskroom/mambaforge/base/envs/tableau_langchain/lib/python3.12/site-packages (from httpx<0.28.0,>=0.27.0->ollama<1,>=0.3.0->langchain-ollama) (1.0.6)\n",
      "Requirement already satisfied: idna in /usr/local/Caskroom/mambaforge/base/envs/tableau_langchain/lib/python3.12/site-packages (from httpx<0.28.0,>=0.27.0->ollama<1,>=0.3.0->langchain-ollama) (3.10)\n",
      "Requirement already satisfied: sniffio in /usr/local/Caskroom/mambaforge/base/envs/tableau_langchain/lib/python3.12/site-packages (from httpx<0.28.0,>=0.27.0->ollama<1,>=0.3.0->langchain-ollama) (1.3.1)\n",
      "Requirement already satisfied: h11<0.15,>=0.13 in /usr/local/Caskroom/mambaforge/base/envs/tableau_langchain/lib/python3.12/site-packages (from httpcore==1.*->httpx<0.28.0,>=0.27.0->ollama<1,>=0.3.0->langchain-ollama) (0.14.0)\n",
      "Requirement already satisfied: jsonpointer>=1.9 in /usr/local/Caskroom/mambaforge/base/envs/tableau_langchain/lib/python3.12/site-packages (from jsonpatch<2.0,>=1.33->langchain-core<0.4.0,>=0.3.0->langchain-ollama) (3.0.0)\n",
      "Requirement already satisfied: orjson<4.0.0,>=3.9.14 in /usr/local/Caskroom/mambaforge/base/envs/tableau_langchain/lib/python3.12/site-packages (from langsmith<0.2.0,>=0.1.125->langchain-core<0.4.0,>=0.3.0->langchain-ollama) (3.10.10)\n",
      "Requirement already satisfied: requests<3,>=2 in /usr/local/Caskroom/mambaforge/base/envs/tableau_langchain/lib/python3.12/site-packages (from langsmith<0.2.0,>=0.1.125->langchain-core<0.4.0,>=0.3.0->langchain-ollama) (2.32.3)\n",
      "Requirement already satisfied: requests-toolbelt<2.0.0,>=1.0.0 in /usr/local/Caskroom/mambaforge/base/envs/tableau_langchain/lib/python3.12/site-packages (from langsmith<0.2.0,>=0.1.125->langchain-core<0.4.0,>=0.3.0->langchain-ollama) (1.0.0)\n",
      "Requirement already satisfied: annotated-types>=0.6.0 in /usr/local/Caskroom/mambaforge/base/envs/tableau_langchain/lib/python3.12/site-packages (from pydantic<3.0.0,>=2.5.2->langchain-core<0.4.0,>=0.3.0->langchain-ollama) (0.7.0)\n",
      "Requirement already satisfied: pydantic-core==2.23.4 in /usr/local/Caskroom/mambaforge/base/envs/tableau_langchain/lib/python3.12/site-packages (from pydantic<3.0.0,>=2.5.2->langchain-core<0.4.0,>=0.3.0->langchain-ollama) (2.23.4)\n",
      "Requirement already satisfied: charset-normalizer<4,>=2 in /usr/local/Caskroom/mambaforge/base/envs/tableau_langchain/lib/python3.12/site-packages (from requests<3,>=2->langsmith<0.2.0,>=0.1.125->langchain-core<0.4.0,>=0.3.0->langchain-ollama) (3.4.0)\n",
      "Requirement already satisfied: urllib3<3,>=1.21.1 in /usr/local/Caskroom/mambaforge/base/envs/tableau_langchain/lib/python3.12/site-packages (from requests<3,>=2->langsmith<0.2.0,>=0.1.125->langchain-core<0.4.0,>=0.3.0->langchain-ollama) (2.2.3)\n",
      "Note: you may need to restart the kernel to use updated packages.\n"
     ]
    }
   ],
   "source": [
    "%pip install -U langchain-ollama"
   ]
  },
  {
   "cell_type": "code",
   "execution_count": 14,
   "id": "fcf116df-1dcf-45a1-b3a3-f9c8c8cfd816",
   "metadata": {},
   "outputs": [],
   "source": [
    "from langchain_ollama.llms import OllamaLLM\n",
    "local_llm = OllamaLLM(model=\"llama3.1\")\n"
   ]
  },
  {
   "cell_type": "code",
   "execution_count": null,
   "id": "3e7337cd-7d78-4b10-9eb6-360aa6114049",
   "metadata": {},
   "outputs": [],
   "source": [
    "tools = [get_data]\n",
    "tableauHeadlessAgent = initialize_agent(\n",
    "    tools,\n",
    "    local_llm,\n",
    "    agent=AgentType.OPENAI_FUNCTIONS,  # Use OpenAI's function calling\n",
    "    verbose=True\n",
    ")\n",
    "\n",
    "# Run the agent\n",
    "response = tableauHeadlessAgent.run(\"what are sales per segment?\")\n",
    "print(response)"
   ]
  },
  {
   "cell_type": "code",
   "execution_count": 22,
   "id": "19f78f69-f829-49b4-ade5-61dd18e4962e",
   "metadata": {},
   "outputs": [
    {
     "ename": "IndexError",
     "evalue": "list index out of range",
     "output_type": "error",
     "traceback": [
      "\u001b[0;31m---------------------------------------------------------------------------\u001b[0m",
      "\u001b[0;31mIndexError\u001b[0m                                Traceback (most recent call last)",
      "Cell \u001b[0;32mIn[22], line 16\u001b[0m\n\u001b[1;32m     14\u001b[0m agent \u001b[38;5;241m=\u001b[39m create_tool_calling_agent(llm, tools, prompt)\n\u001b[1;32m     15\u001b[0m agent_executor \u001b[38;5;241m=\u001b[39m AgentExecutor(agent\u001b[38;5;241m=\u001b[39magent, tools\u001b[38;5;241m=\u001b[39mtools, verbose\u001b[38;5;241m=\u001b[39m\u001b[38;5;28;01mTrue\u001b[39;00m)\n\u001b[0;32m---> 16\u001b[0m \u001b[43magent_executor\u001b[49m\u001b[38;5;241;43m.\u001b[39;49m\u001b[43minvoke\u001b[49m\u001b[43m(\u001b[49m\u001b[38;5;124;43m\"\u001b[39;49m\u001b[38;5;124;43mwhat are sales per segment?\u001b[39;49m\u001b[38;5;124;43m\"\u001b[39;49m\u001b[43m)\u001b[49m\n",
      "File \u001b[0;32m/usr/local/Caskroom/mambaforge/base/envs/tableau_langchain/lib/python3.12/site-packages/langchain/chains/base.py:139\u001b[0m, in \u001b[0;36mChain.invoke\u001b[0;34m(self, input, config, **kwargs)\u001b[0m\n\u001b[1;32m    136\u001b[0m include_run_info \u001b[38;5;241m=\u001b[39m kwargs\u001b[38;5;241m.\u001b[39mget(\u001b[38;5;124m\"\u001b[39m\u001b[38;5;124minclude_run_info\u001b[39m\u001b[38;5;124m\"\u001b[39m, \u001b[38;5;28;01mFalse\u001b[39;00m)\n\u001b[1;32m    137\u001b[0m return_only_outputs \u001b[38;5;241m=\u001b[39m kwargs\u001b[38;5;241m.\u001b[39mget(\u001b[38;5;124m\"\u001b[39m\u001b[38;5;124mreturn_only_outputs\u001b[39m\u001b[38;5;124m\"\u001b[39m, \u001b[38;5;28;01mFalse\u001b[39;00m)\n\u001b[0;32m--> 139\u001b[0m inputs \u001b[38;5;241m=\u001b[39m \u001b[38;5;28;43mself\u001b[39;49m\u001b[38;5;241;43m.\u001b[39;49m\u001b[43mprep_inputs\u001b[49m\u001b[43m(\u001b[49m\u001b[38;5;28;43minput\u001b[39;49m\u001b[43m)\u001b[49m\n\u001b[1;32m    140\u001b[0m callback_manager \u001b[38;5;241m=\u001b[39m CallbackManager\u001b[38;5;241m.\u001b[39mconfigure(\n\u001b[1;32m    141\u001b[0m     callbacks,\n\u001b[1;32m    142\u001b[0m     \u001b[38;5;28mself\u001b[39m\u001b[38;5;241m.\u001b[39mcallbacks,\n\u001b[0;32m   (...)\u001b[0m\n\u001b[1;32m    147\u001b[0m     \u001b[38;5;28mself\u001b[39m\u001b[38;5;241m.\u001b[39mmetadata,\n\u001b[1;32m    148\u001b[0m )\n\u001b[1;32m    149\u001b[0m new_arg_supported \u001b[38;5;241m=\u001b[39m inspect\u001b[38;5;241m.\u001b[39msignature(\u001b[38;5;28mself\u001b[39m\u001b[38;5;241m.\u001b[39m_call)\u001b[38;5;241m.\u001b[39mparameters\u001b[38;5;241m.\u001b[39mget(\u001b[38;5;124m\"\u001b[39m\u001b[38;5;124mrun_manager\u001b[39m\u001b[38;5;124m\"\u001b[39m)\n",
      "File \u001b[0;32m/usr/local/Caskroom/mambaforge/base/envs/tableau_langchain/lib/python3.12/site-packages/langchain/chains/base.py:516\u001b[0m, in \u001b[0;36mChain.prep_inputs\u001b[0;34m(self, inputs)\u001b[0m\n\u001b[1;32m    512\u001b[0m     \u001b[38;5;28;01mif\u001b[39;00m \u001b[38;5;28mself\u001b[39m\u001b[38;5;241m.\u001b[39mmemory \u001b[38;5;129;01mis\u001b[39;00m \u001b[38;5;129;01mnot\u001b[39;00m \u001b[38;5;28;01mNone\u001b[39;00m:\n\u001b[1;32m    513\u001b[0m         \u001b[38;5;66;03m# If there are multiple input keys, but some get set by memory so that\u001b[39;00m\n\u001b[1;32m    514\u001b[0m         \u001b[38;5;66;03m# only one is not set, we can still figure out which key it is.\u001b[39;00m\n\u001b[1;32m    515\u001b[0m         _input_keys \u001b[38;5;241m=\u001b[39m _input_keys\u001b[38;5;241m.\u001b[39mdifference(\u001b[38;5;28mself\u001b[39m\u001b[38;5;241m.\u001b[39mmemory\u001b[38;5;241m.\u001b[39mmemory_variables)\n\u001b[0;32m--> 516\u001b[0m     inputs \u001b[38;5;241m=\u001b[39m {\u001b[38;5;28;43mlist\u001b[39;49m\u001b[43m(\u001b[49m\u001b[43m_input_keys\u001b[49m\u001b[43m)\u001b[49m\u001b[43m[\u001b[49m\u001b[38;5;241;43m0\u001b[39;49m\u001b[43m]\u001b[49m: inputs}\n\u001b[1;32m    517\u001b[0m \u001b[38;5;28;01mif\u001b[39;00m \u001b[38;5;28mself\u001b[39m\u001b[38;5;241m.\u001b[39mmemory \u001b[38;5;129;01mis\u001b[39;00m \u001b[38;5;129;01mnot\u001b[39;00m \u001b[38;5;28;01mNone\u001b[39;00m:\n\u001b[1;32m    518\u001b[0m     external_context \u001b[38;5;241m=\u001b[39m \u001b[38;5;28mself\u001b[39m\u001b[38;5;241m.\u001b[39mmemory\u001b[38;5;241m.\u001b[39mload_memory_variables(inputs)\n",
      "\u001b[0;31mIndexError\u001b[0m: list index out of range"
     ]
    }
   ],
   "source": [
    "from langchain_core.prompts import ChatPromptTemplate\n",
    "prompt = ChatPromptTemplate.from_messages(\n",
    "    [\n",
    "        (\n",
    "            \"system\",\n",
    "            \"You are a helpful assistant. Make sure to answer the input question by using get_data tool to retrieve data from a tableau published data source.\",\n",
    "        ),\n",
    "        (\"placeholder\", \"{chat_history}\"),\n",
    "        (\"human\", \"{input}\"),\n",
    "        (\"placeholder\", \"{agent_scratchpad}\"),\n",
    "    ]\n",
    ")\n",
    "# Construct the Tools agent\n",
    "agent = create_tool_calling_agent(llm, tools, prompt)\n",
    "agent_executor = AgentExecutor(agent=agent, tools=tools, verbose=True)\n",
    "agent_executor.invoke(\"what are sales per segment?\")"
   ]
  },
  {
   "cell_type": "code",
   "execution_count": null,
   "id": "d985160d-4ac9-4efb-a7df-3aaaeb8fcf7d",
   "metadata": {},
   "outputs": [],
   "source": []
  }
 ],
 "metadata": {
  "kernelspec": {
   "display_name": "Python [conda env:tableau_langchain] *",
   "language": "python",
   "name": "conda-env-tableau_langchain-py"
  },
  "language_info": {
   "codemirror_mode": {
    "name": "ipython",
    "version": 3
   },
   "file_extension": ".py",
   "mimetype": "text/x-python",
   "name": "python",
   "nbconvert_exporter": "python",
   "pygments_lexer": "ipython3",
   "version": "3.12.2"
  }
 },
 "nbformat": 4,
 "nbformat_minor": 5
}
