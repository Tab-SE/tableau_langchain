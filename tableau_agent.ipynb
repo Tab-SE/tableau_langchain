{
 "cells": [
  {
   "cell_type": "markdown",
   "metadata": {},
   "source": [
    "# Tableau Agent\n",
    "\n",
    "This is a sample implementation of a Langgraph Agent for Tableau."
   ]
  },
  {
   "cell_type": "code",
   "execution_count": null,
   "metadata": {},
   "outputs": [],
   "source": [
    "import os\n",
    "\n",
    "from dotenv import load_dotenv\n",
    "\n",
    "from IPython.display import display, Markdown\n",
    "\n",
    "from langchain_openai import ChatOpenAI\n",
    "from langgraph.prebuilt import create_react_agent\n",
    "\n",
    "from agents.cra.state import CustomState\n",
    "from agents.cra.tooling import tools\n",
    "from agents.cra.memory import initialize_memory\n",
    "from agents.utils.agent_utils import  _visualize_graph\n",
    "from agents.utils.tableau import authenticate_tableau_user"
   ]
  },
  {
   "cell_type": "markdown",
   "metadata": {},
   "source": [
    "## Defining Agent Inputs\n",
    "\n",
    "The next section obtains a Tableau session for the user"
   ]
  },
  {
   "cell_type": "code",
   "execution_count": 9,
   "metadata": {},
   "outputs": [],
   "source": [
    "# environment variables available to current process and sub processes\n",
    "load_dotenv()\n",
    "\n",
    "domain = os.environ['TABLEAU_DOMAIN']\n",
    "site = os.environ['TABLEAU_SITE']\n",
    "datasource_luid = '0965e61b-a072-43cf-994c-8c6cf526940d'\n",
    "\n",
    "# define required authorizations to Tableau resources to support Agent operations\n",
    "access_scopes = [\n",
    "    \"tableau:content:read\", # for quering Tableau Metadata API\n",
    "    \"tableau:viz_data_service:read\" # for querying VizQL Data Service\n",
    "]\n",
    "\n",
    "# get a valid Tableau session or API key\n",
    "tableau_session = await authenticate_tableau_user(\n",
    "    jwt_client_id=os.environ['TABLEAU_JWT_CLIENT_ID'],\n",
    "    jwt_secret_id=os.environ['TABLEAU_JWT_SECRET_ID'],\n",
    "    jwt_secret=os.environ['TABLEAU_JWT_SECRET'],\n",
    "    tableau_api=os.environ['TABLEAU_API'],\n",
    "    tableau_user=os.environ['TABLEAU_USER'],\n",
    "    tableau_domain=domain,\n",
    "    tableau_site=site,\n",
    "    scopes=access_scopes\n",
    ")\n",
    "\n",
    "# inputs for Agent initialization, only credentials are mandatory\n",
    "sample_inputs = {\n",
    "    'tableau_credentials': {\n",
    "        \"session\": tableau_session,\n",
    "        \"url\": domain,\n",
    "        \"site\": site,\n",
    "    },\n",
    "    'datasource': {\n",
    "        \"luid\": datasource_luid,\n",
    "        \"name\": None,\n",
    "        \"description\": None\n",
    "    }\n",
    "}"
   ]
  },
  {
   "cell_type": "code",
   "execution_count": 10,
   "metadata": {},
   "outputs": [
    {
     "name": "stdout",
     "output_type": "stream",
     "text": [
      "Agent Graph saved as 'graph_visualization.png' | file size: 7650 bytes\n"
     ]
    },
    {
     "data": {
      "image/jpeg": "[encoded data removed]",
      "text/plain": [
       "<IPython.core.display.Image object>"
      ]
     },
     "metadata": {},
     "output_type": "display_data"
    }
   ],
   "source": [
    "# configure running model for the agent\n",
    "llm = ChatOpenAI(\n",
    "    model=os.environ[\"AGENT_MODEL\"],\n",
    "    api_key=os.environ[\"OPENAI_API_KEY\"],\n",
    "    temperature=0,\n",
    "    verbose=True,\n",
    "    max_tokens=None,\n",
    "    timeout=None,\n",
    "    max_retries=2\n",
    ")\n",
    "\n",
    "# initialize memory\n",
    "memory = initialize_memory(memory_inputs=sample_inputs)\n",
    "\n",
    "# set agent debugging state\n",
    "if os.getenv('DEBUG') == '1':\n",
    "    debugging = True\n",
    "else:\n",
    "    debugging = False\n",
    "\n",
    "# define the agent graph\n",
    "cra_agent = create_react_agent(\n",
    "    model=llm,\n",
    "    state_schema=CustomState,\n",
    "    tools=tools,\n",
    "    store=memory,\n",
    "    debug=debugging\n",
    ")\n",
    "\n",
    "# outputs a mermaid diagram of the graph in png format\n",
    "_visualize_graph(cra_agent)"
   ]
  },
  {
   "cell_type": "code",
   "execution_count": 11,
   "metadata": {},
   "outputs": [
    {
     "name": "stdout",
     "output_type": "stream",
     "text": [
      "\n",
      "Agent:\n",
      "Ok\n",
      "First I'll get as much metadata as I can about this data source...\n",
      "I'll index field values so I can filter the data according to your specifications...\n",
      "I have the necessary metadata and will write an API query for you\n",
      "\n",
      "Agent:\n"
     ]
    },
    {
     "data": {
      "text/markdown": [
       "Here are the average discount, total sales, and profits by region, sorted by profit:\n",
       "\n",
       "| Region  | Average Discount | Total Sales  | Total Profit  |\n",
       "|---------|------------------|--------------|---------------|\n",
       "| West    | 0.11             | 739,813.61   | 110,798.82    |\n",
       "| East    | 0.14             | 691,828.17   | 94,883.26     |\n",
       "| South   | 0.15             | 391,721.91   | 46,749.43     |\n",
       "| Central | 0.24             | 503,170.67   | 39,865.31     |\n",
       "\n",
       "The regions are listed in order of total profit, with the West region having the highest profit."
      ],
      "text/plain": [
       "<IPython.core.display.Markdown object>"
      ]
     },
     "metadata": {},
     "output_type": "display_data"
    }
   ],
   "source": [
    "# question or task sent to the agent\n",
    "message_string = 'show me average discount, total sales and profits by region sorted by profit'\n",
    "\n",
    "# graph inputs must follow dict[str, Any] | Any\n",
    "input_stream = {\n",
    "    \"messages\": [(\"user\", message_string)],\n",
    "}\n",
    "\n",
    "# streams events from the Agent graph started by user input stream\n",
    "for event in cra_agent.stream(input_stream):\n",
    "    agent_output = event.get('agent')\n",
    "    if event.get('agent'):\n",
    "        agent_message = agent_output[\"messages\"][0].content\n",
    "        if len(agent_message) > 0:\n",
    "            print(\"\\nAgent:\")\n",
    "            display(Markdown(agent_message))"
   ]
  }
 ],
 "metadata": {
  "kernelspec": {
   "display_name": "tableau_langchain",
   "language": "python",
   "name": "python3"
  },
  "language_info": {
   "codemirror_mode": {
    "name": "ipython",
    "version": 3
   },
   "file_extension": ".py",
   "mimetype": "text/x-python",
   "name": "python",
   "nbconvert_exporter": "python",
   "pygments_lexer": "ipython3",
   "version": "3.12.2"
  }
 },
 "nbformat": 4,
 "nbformat_minor": 4
}
