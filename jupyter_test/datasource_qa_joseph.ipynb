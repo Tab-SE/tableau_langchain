{
 "cells": [
  {
   "cell_type": "markdown",
   "metadata": {},
   "source": [
    "# Simple Data Source Q&A\n",
    "\n",
    "This is a sample implementation of an analytical Agent for Tableau built with Langgraph\n",
    "\n",
    "### Dependencies and Environment Variables\n",
    "\n",
    "First we begin with the dependencies and environment variables needed to run the Agent graph"
   ]
  },
  {
   "cell_type": "code",
   "execution_count": 6,
   "metadata": {},
   "outputs": [
    {
     "name": "stdout",
     "output_type": "stream",
     "text": [
      "Current Working Directory: /Users/josephflu/ztemp/t\n",
      "Python Executable Path: /Users/josephflu/ztemp/t/env_prod/bin/python\n"
     ]
    }
   ],
   "source": [
    "import sys\n",
    "# Print current working directory\n",
    "print(\"Current Working Directory:\", os.getcwd())\n",
    "\n",
    "# Print the Python executable path\n",
    "print(\"Python Executable Path:\", sys.executable)\n"
   ]
  },
  {
   "cell_type": "code",
   "execution_count": 8,
   "metadata": {},
   "outputs": [],
   "source": [
    "import os\n",
    "from dotenv import load_dotenv\n",
    "from IPython.display import display, Markdown\n",
    "\n",
    "# base langchain library imports\n",
    "from langchain_openai import ChatOpenAI\n",
    "from langgraph.prebuilt import create_react_agent\n",
    "\n",
    "# langchain_tableau imports\n",
    "from langchain_tableau.tools.simple_datasource_qa import initialize_simple_datasource_qa\n",
    "\n",
    "# environment variables available to current process and sub processes\n",
    "load_dotenv()\n",
    "# variables for authenticating and interacting with a Tableau site\n",
    "tableau_domain = os.environ['TABLEAU_DOMAIN']\n",
    "tableau_site = os.environ['TABLEAU_SITE']\n",
    "tableau_jwt_client_id = os.environ['TABLEAU_JWT_CLIENT_ID']\n",
    "tableau_jwt_secret_id = os.environ['TABLEAU_JWT_SECRET_ID']\n",
    "tableau_jwt_secret = os.environ['TABLEAU_JWT_SECRET']\n",
    "tableau_api_version = os.environ['TABLEAU_API_VERSION']\n",
    "tableau_user = os.environ['TABLEAU_USER']\n",
    "# the target data source for this Tool\n",
    "datasource_luid = os.environ['DATASOURCE_LUID']\n",
    "# variables to control LLM models for the Agent and Tools\n",
    "open_api_key = os.environ[\"OPENAI_API_KEY\"]\n",
    "agent_llm_model = os.environ['AGENT_MODEL']\n",
    "tooling_llm_model = os.environ['TOOLING_MODEL']"
   ]
  },
  {
   "cell_type": "markdown",
   "metadata": {},
   "source": [
    "### Agent Graph\n",
    "\n",
    "Then we define the Agent graph using Langgraph's prebuilt `create_react_agent` combined with the a tool to query a Tableau data source for conversational analytics"
   ]
  },
  {
   "cell_type": "code",
   "execution_count": 9,
   "metadata": {},
   "outputs": [],
   "source": [
    "# configure running model for the agent\n",
    "llm = ChatOpenAI(\n",
    "    model=agent_llm_model,\n",
    "    api_key=open_api_key,\n",
    "    temperature=0,\n",
    "    verbose=True,\n",
    "    max_tokens=None,\n",
    "    timeout=None,\n",
    "    max_retries=2\n",
    ")\n",
    "\n",
    "# Tableau VizQL Data Service Query Tool\n",
    "analyze_datasource = initialize_simple_datasource_qa(\n",
    "    domain=tableau_domain,\n",
    "    site=tableau_site,\n",
    "    jwt_client_id=tableau_jwt_client_id,\n",
    "    jwt_secret_id=tableau_jwt_secret_id,\n",
    "    jwt_secret=tableau_jwt_secret,\n",
    "    tableau_api_version=tableau_api_version,\n",
    "    tableau_user=tableau_user,\n",
    "    datasource_luid=datasource_luid,\n",
    "    tooling_llm_model=tooling_llm_model\n",
    ")\n",
    "\n",
    "# load the List of Tools to be used by the Agent\n",
    "tools = [ analyze_datasource ]\n",
    "\n",
    "# set agent debugging state\n",
    "if os.getenv('DEBUG') == '1':\n",
    "    debugging = True\n",
    "else:\n",
    "    debugging = False\n",
    "\n",
    "# define the agent graph\n",
    "query_agent = create_react_agent(\n",
    "    model=llm,\n",
    "    tools=tools,\n",
    "    debug=debugging\n",
    ")"
   ]
  },
  {
   "cell_type": "markdown",
   "metadata": {},
   "source": [
    "### Interacting with the Analytical Agent\n",
    "\n",
    "After constructing an Analytical Agent with the power to query a Tableau data source, we proceed to ask questions, set tasks and issue commands to the Agent"
   ]
  },
  {
   "cell_type": "code",
   "execution_count": 10,
   "metadata": {},
   "outputs": [
    {
     "name": "stdout",
     "output_type": "stream",
     "text": [
      "\u001b[36;1m\u001b[1;3m[-1:checkpoint]\u001b[0m \u001b[1mState at the end of step -1:\n",
      "\u001b[0m{'messages': []}\n",
      "\u001b[36;1m\u001b[1;3m[0:tasks]\u001b[0m \u001b[1mStarting 1 task for step 0:\n",
      "\u001b[0m- \u001b[32;1m\u001b[1;3m__start__\u001b[0m -> {'messages': [('human',\n",
      "               'show me average discount, total sales and profits by region '\n",
      "               'sorted by profit')]}\n",
      "\u001b[36;1m\u001b[1;3m[0:writes]\u001b[0m \u001b[1mFinished step 0 with writes to 1 channel:\n",
      "\u001b[0m- \u001b[33;1m\u001b[1;3mmessages\u001b[0m -> [('human',\n",
      "  'show me average discount, total sales and profits by region sorted by '\n",
      "  'profit')]\n",
      "\u001b[36;1m\u001b[1;3m[0:checkpoint]\u001b[0m \u001b[1mState at the end of step 0:\n",
      "\u001b[0m{'messages': [HumanMessage(content='show me average discount, total sales and profits by region sorted by profit', additional_kwargs={}, response_metadata={}, id='e6bf3993-46f0-466f-ade9-c9ca3d58d066')]}\n",
      "\u001b[36;1m\u001b[1;3m[1:tasks]\u001b[0m \u001b[1mStarting 1 task for step 1:\n",
      "\u001b[0m- \u001b[32;1m\u001b[1;3magent\u001b[0m -> {'is_last_step': False,\n",
      " 'messages': [HumanMessage(content='show me average discount, total sales and profits by region sorted by profit', additional_kwargs={}, response_metadata={}, id='e6bf3993-46f0-466f-ade9-c9ca3d58d066')],\n",
      " 'remaining_steps': 24}\n",
      "\u001b[36;1m\u001b[1;3m[1:writes]\u001b[0m \u001b[1mFinished step 1 with writes to 1 channel:\n",
      "\u001b[0m- \u001b[33;1m\u001b[1;3mmessages\u001b[0m -> [AIMessage(content='', additional_kwargs={'tool_calls': [{'id': 'call_PAgGKJR5cLkiqx3Cza2hTMBG', 'function': {'arguments': '{\"user_input\":\"SELECT region, AVG(discount) AS average_discount, SUM(sales) AS total_sales, SUM(profit) AS total_profit FROM sales_data GROUP BY region ORDER BY total_profit DESC\"}', 'name': 'simple_datasource_qa'}, 'type': 'function'}], 'refusal': None}, response_metadata={'token_usage': {'completion_tokens': 55, 'prompt_tokens': 297, 'total_tokens': 352, 'completion_tokens_details': {'accepted_prediction_tokens': 0, 'audio_tokens': 0, 'reasoning_tokens': 0, 'rejected_prediction_tokens': 0}, 'prompt_tokens_details': {'audio_tokens': 0, 'cached_tokens': 0}}, 'model_name': 'gpt-4o-mini-2024-07-18', 'system_fingerprint': 'fp_06737a9306', 'finish_reason': 'tool_calls', 'logprobs': None}, id='run-a4c17094-dcb9-460b-b9bc-c72c194ce18d-0', tool_calls=[{'name': 'simple_datasource_qa', 'args': {'user_input': 'SELECT region, AVG(discount) AS average_discount, SUM(sales) AS total_sales, SUM(profit) AS total_profit FROM sales_data GROUP BY region ORDER BY total_profit DESC'}, 'id': 'call_PAgGKJR5cLkiqx3Cza2hTMBG', 'type': 'tool_call'}], usage_metadata={'input_tokens': 297, 'output_tokens': 55, 'total_tokens': 352, 'input_token_details': {'audio': 0, 'cache_read': 0}, 'output_token_details': {'audio': 0, 'reasoning': 0}})]\n",
      "\u001b[36;1m\u001b[1;3m[1:checkpoint]\u001b[0m \u001b[1mState at the end of step 1:\n",
      "\u001b[0m{'messages': [HumanMessage(content='show me average discount, total sales and profits by region sorted by profit', additional_kwargs={}, response_metadata={}, id='e6bf3993-46f0-466f-ade9-c9ca3d58d066'),\n",
      "              AIMessage(content='', additional_kwargs={'tool_calls': [{'id': 'call_PAgGKJR5cLkiqx3Cza2hTMBG', 'function': {'arguments': '{\"user_input\":\"SELECT region, AVG(discount) AS average_discount, SUM(sales) AS total_sales, SUM(profit) AS total_profit FROM sales_data GROUP BY region ORDER BY total_profit DESC\"}', 'name': 'simple_datasource_qa'}, 'type': 'function'}], 'refusal': None}, response_metadata={'token_usage': {'completion_tokens': 55, 'prompt_tokens': 297, 'total_tokens': 352, 'completion_tokens_details': {'accepted_prediction_tokens': 0, 'audio_tokens': 0, 'reasoning_tokens': 0, 'rejected_prediction_tokens': 0}, 'prompt_tokens_details': {'audio_tokens': 0, 'cached_tokens': 0}}, 'model_name': 'gpt-4o-mini-2024-07-18', 'system_fingerprint': 'fp_06737a9306', 'finish_reason': 'tool_calls', 'logprobs': None}, id='run-a4c17094-dcb9-460b-b9bc-c72c194ce18d-0', tool_calls=[{'name': 'simple_datasource_qa', 'args': {'user_input': 'SELECT region, AVG(discount) AS average_discount, SUM(sales) AS total_sales, SUM(profit) AS total_profit FROM sales_data GROUP BY region ORDER BY total_profit DESC'}, 'id': 'call_PAgGKJR5cLkiqx3Cza2hTMBG', 'type': 'tool_call'}], usage_metadata={'input_tokens': 297, 'output_tokens': 55, 'total_tokens': 352, 'input_token_details': {'audio': 0, 'cache_read': 0}, 'output_token_details': {'audio': 0, 'reasoning': 0}})]}\n",
      "\u001b[36;1m\u001b[1;3m[2:tasks]\u001b[0m \u001b[1mStarting 1 task for step 2:\n",
      "\u001b[0m- \u001b[32;1m\u001b[1;3mtools\u001b[0m -> {'is_last_step': False,\n",
      " 'messages': [HumanMessage(content='show me average discount, total sales and profits by region sorted by profit', additional_kwargs={}, response_metadata={}, id='e6bf3993-46f0-466f-ade9-c9ca3d58d066'),\n",
      "              AIMessage(content='', additional_kwargs={'tool_calls': [{'id': 'call_PAgGKJR5cLkiqx3Cza2hTMBG', 'function': {'arguments': '{\"user_input\":\"SELECT region, AVG(discount) AS average_discount, SUM(sales) AS total_sales, SUM(profit) AS total_profit FROM sales_data GROUP BY region ORDER BY total_profit DESC\"}', 'name': 'simple_datasource_qa'}, 'type': 'function'}], 'refusal': None}, response_metadata={'token_usage': {'completion_tokens': 55, 'prompt_tokens': 297, 'total_tokens': 352, 'completion_tokens_details': {'accepted_prediction_tokens': 0, 'audio_tokens': 0, 'reasoning_tokens': 0, 'rejected_prediction_tokens': 0}, 'prompt_tokens_details': {'audio_tokens': 0, 'cached_tokens': 0}}, 'model_name': 'gpt-4o-mini-2024-07-18', 'system_fingerprint': 'fp_06737a9306', 'finish_reason': 'tool_calls', 'logprobs': None}, id='run-a4c17094-dcb9-460b-b9bc-c72c194ce18d-0', tool_calls=[{'name': 'simple_datasource_qa', 'args': {'user_input': 'SELECT region, AVG(discount) AS average_discount, SUM(sales) AS total_sales, SUM(profit) AS total_profit FROM sales_data GROUP BY region ORDER BY total_profit DESC'}, 'id': 'call_PAgGKJR5cLkiqx3Cza2hTMBG', 'type': 'tool_call'}], usage_metadata={'input_tokens': 297, 'output_tokens': 55, 'total_tokens': 352, 'input_token_details': {'audio': 0, 'cache_read': 0}, 'output_token_details': {'audio': 0, 'reasoning': 0}})],\n",
      " 'remaining_steps': 23}\n",
      "\u001b[36;1m\u001b[1;3m[2:writes]\u001b[0m \u001b[1mFinished step 2 with writes to 1 channel:\n",
      "\u001b[0m- \u001b[33;1m\u001b[1;3mmessages\u001b[0m -> [ToolMessage(content='text=\\'\\\\nThis is the output of a data query tool used to fetch information via Tableau\\\\\\'s VizQL API,\\\\nyour task is synthesizing all of this information to provide a clear, concise answer to the end user.\\\\n\\\\nThis is the data source queried with the tool:\\\\n0965e61b-a072-43cf-994c-8c6cf526940d\\\\n\\\\nThis is the query written to Tableau\\\\\\'s VizQL API for the data source:\\\\ncontent=\\\\\\'{\"fields\":[{\"fieldCaption\":\"Region\"},{\"fieldCaption\":\"Discount\",\"function\":\"AVG\",\"maxDecimalPlaces\":2},{\"fieldCaption\":\"Sales\",\"function\":\"SUM\",\"maxDecimalPlaces\":2},{\"fieldCaption\":\"Profit\",\"function\":\"SUM\",\"maxDecimalPlaces\":2,\"sortPriority\":1,\"sortDirection\":\"DESC\"}]}\\\\\\' additional_kwargs={\\\\\\'refusal\\\\\\': None} response_metadata={\\\\\\'token_usage\\\\\\': {\\\\\\'completion_tokens\\\\\\': 66, \\\\\\'prompt_tokens\\\\\\': 6401, \\\\\\'total_tokens\\\\\\': 6467, \\\\\\'completion_tokens_details\\\\\\': {\\\\\\'accepted_prediction_tokens\\\\\\': 0, \\\\\\'audio_tokens\\\\\\': 0, \\\\\\'reasoning_tokens\\\\\\': 0, \\\\\\'rejected_prediction_tokens\\\\\\': 0}, \\\\\\'prompt_tokens_details\\\\\\': {\\\\\\'audio_tokens\\\\\\': 0, \\\\\\'cached_tokens\\\\\\': 0}}, \\\\\\'model_name\\\\\\': \\\\\\'gpt-4o-mini-2024-07-18\\\\\\', \\\\\\'system_fingerprint\\\\\\': \\\\\\'fp_06737a9306\\\\\\', \\\\\\'finish_reason\\\\\\': \\\\\\'stop\\\\\\', \\\\\\'logprobs\\\\\\': None} id=\\\\\\'run-6fb94bf7-1484-4636-9eef-9dce81042988-0\\\\\\' usage_metadata={\\\\\\'input_tokens\\\\\\': 6401, \\\\\\'output_tokens\\\\\\': 66, \\\\\\'total_tokens\\\\\\': 6467, \\\\\\'input_token_details\\\\\\': {\\\\\\'audio\\\\\\': 0, \\\\\\'cache_read\\\\\\': 0}, \\\\\\'output_token_details\\\\\\': {\\\\\\'audio\\\\\\': 0, \\\\\\'reasoning\\\\\\': 0}}\\\\n\\\\nThis is the resulting data from the query:\\\\n| Region | AVG(Discount) | SUM(Sales) | SUM(Profit) |\\\\n| --- | --- | --- | --- |\\\\n| West | 0.11 | 739813.61 | 110798.82 |\\\\n| East | 0.14 | 691828.17 | 94883.26 |\\\\n| South | 0.15 | 391721.91 | 46749.43 |\\\\n| Central | 0.24 | 503170.67 | 39865.31 |\\\\n\\\\n\\\\nThis was the user_input (question or task):\\\\nSELECT region, AVG(discount) AS average_discount, SUM(sales) AS total_sales, SUM(profit) AS total_profit FROM sales_data GROUP BY region ORDER BY total_profit DESC\\\\n\\\\nBased on the provided context, formulate a comprehensive and informative response to the user\\\\\\'s query.\\\\nYour response should be:\\\\n1. Describe the data source used in the query unless it has been mentioned previously\\\\n2. Translate the query to a simple query plan for end users who do not understand SQL\\\\n3. Use the data_table to answer the user\\\\\\'s question or task\\\\n4. Provide insights or conclusions only when relevant to the user, don\\\\\\'t generate additional insights\\\\nthat are unasked for unless the request asked for a detailed analysis\\\\n5. Short and concise, if the data table is too long only return the relevant rows or a small sample\\\\n6. Avoid generating too much redundant information unless specified by the user or they asked for detailed analysis\\\\n\\\\nYour synthesized response:\\\\n\\'', name='simple_datasource_qa', tool_call_id='call_PAgGKJR5cLkiqx3Cza2hTMBG')]\n",
      "\u001b[36;1m\u001b[1;3m[2:checkpoint]\u001b[0m \u001b[1mState at the end of step 2:\n",
      "\u001b[0m{'messages': [HumanMessage(content='show me average discount, total sales and profits by region sorted by profit', additional_kwargs={}, response_metadata={}, id='e6bf3993-46f0-466f-ade9-c9ca3d58d066'),\n",
      "              AIMessage(content='', additional_kwargs={'tool_calls': [{'id': 'call_PAgGKJR5cLkiqx3Cza2hTMBG', 'function': {'arguments': '{\"user_input\":\"SELECT region, AVG(discount) AS average_discount, SUM(sales) AS total_sales, SUM(profit) AS total_profit FROM sales_data GROUP BY region ORDER BY total_profit DESC\"}', 'name': 'simple_datasource_qa'}, 'type': 'function'}], 'refusal': None}, response_metadata={'token_usage': {'completion_tokens': 55, 'prompt_tokens': 297, 'total_tokens': 352, 'completion_tokens_details': {'accepted_prediction_tokens': 0, 'audio_tokens': 0, 'reasoning_tokens': 0, 'rejected_prediction_tokens': 0}, 'prompt_tokens_details': {'audio_tokens': 0, 'cached_tokens': 0}}, 'model_name': 'gpt-4o-mini-2024-07-18', 'system_fingerprint': 'fp_06737a9306', 'finish_reason': 'tool_calls', 'logprobs': None}, id='run-a4c17094-dcb9-460b-b9bc-c72c194ce18d-0', tool_calls=[{'name': 'simple_datasource_qa', 'args': {'user_input': 'SELECT region, AVG(discount) AS average_discount, SUM(sales) AS total_sales, SUM(profit) AS total_profit FROM sales_data GROUP BY region ORDER BY total_profit DESC'}, 'id': 'call_PAgGKJR5cLkiqx3Cza2hTMBG', 'type': 'tool_call'}], usage_metadata={'input_tokens': 297, 'output_tokens': 55, 'total_tokens': 352, 'input_token_details': {'audio': 0, 'cache_read': 0}, 'output_token_details': {'audio': 0, 'reasoning': 0}}),\n",
      "              ToolMessage(content='text=\\'\\\\nThis is the output of a data query tool used to fetch information via Tableau\\\\\\'s VizQL API,\\\\nyour task is synthesizing all of this information to provide a clear, concise answer to the end user.\\\\n\\\\nThis is the data source queried with the tool:\\\\n0965e61b-a072-43cf-994c-8c6cf526940d\\\\n\\\\nThis is the query written to Tableau\\\\\\'s VizQL API for the data source:\\\\ncontent=\\\\\\'{\"fields\":[{\"fieldCaption\":\"Region\"},{\"fieldCaption\":\"Discount\",\"function\":\"AVG\",\"maxDecimalPlaces\":2},{\"fieldCaption\":\"Sales\",\"function\":\"SUM\",\"maxDecimalPlaces\":2},{\"fieldCaption\":\"Profit\",\"function\":\"SUM\",\"maxDecimalPlaces\":2,\"sortPriority\":1,\"sortDirection\":\"DESC\"}]}\\\\\\' additional_kwargs={\\\\\\'refusal\\\\\\': None} response_metadata={\\\\\\'token_usage\\\\\\': {\\\\\\'completion_tokens\\\\\\': 66, \\\\\\'prompt_tokens\\\\\\': 6401, \\\\\\'total_tokens\\\\\\': 6467, \\\\\\'completion_tokens_details\\\\\\': {\\\\\\'accepted_prediction_tokens\\\\\\': 0, \\\\\\'audio_tokens\\\\\\': 0, \\\\\\'reasoning_tokens\\\\\\': 0, \\\\\\'rejected_prediction_tokens\\\\\\': 0}, \\\\\\'prompt_tokens_details\\\\\\': {\\\\\\'audio_tokens\\\\\\': 0, \\\\\\'cached_tokens\\\\\\': 0}}, \\\\\\'model_name\\\\\\': \\\\\\'gpt-4o-mini-2024-07-18\\\\\\', \\\\\\'system_fingerprint\\\\\\': \\\\\\'fp_06737a9306\\\\\\', \\\\\\'finish_reason\\\\\\': \\\\\\'stop\\\\\\', \\\\\\'logprobs\\\\\\': None} id=\\\\\\'run-6fb94bf7-1484-4636-9eef-9dce81042988-0\\\\\\' usage_metadata={\\\\\\'input_tokens\\\\\\': 6401, \\\\\\'output_tokens\\\\\\': 66, \\\\\\'total_tokens\\\\\\': 6467, \\\\\\'input_token_details\\\\\\': {\\\\\\'audio\\\\\\': 0, \\\\\\'cache_read\\\\\\': 0}, \\\\\\'output_token_details\\\\\\': {\\\\\\'audio\\\\\\': 0, \\\\\\'reasoning\\\\\\': 0}}\\\\n\\\\nThis is the resulting data from the query:\\\\n| Region | AVG(Discount) | SUM(Sales) | SUM(Profit) |\\\\n| --- | --- | --- | --- |\\\\n| West | 0.11 | 739813.61 | 110798.82 |\\\\n| East | 0.14 | 691828.17 | 94883.26 |\\\\n| South | 0.15 | 391721.91 | 46749.43 |\\\\n| Central | 0.24 | 503170.67 | 39865.31 |\\\\n\\\\n\\\\nThis was the user_input (question or task):\\\\nSELECT region, AVG(discount) AS average_discount, SUM(sales) AS total_sales, SUM(profit) AS total_profit FROM sales_data GROUP BY region ORDER BY total_profit DESC\\\\n\\\\nBased on the provided context, formulate a comprehensive and informative response to the user\\\\\\'s query.\\\\nYour response should be:\\\\n1. Describe the data source used in the query unless it has been mentioned previously\\\\n2. Translate the query to a simple query plan for end users who do not understand SQL\\\\n3. Use the data_table to answer the user\\\\\\'s question or task\\\\n4. Provide insights or conclusions only when relevant to the user, don\\\\\\'t generate additional insights\\\\nthat are unasked for unless the request asked for a detailed analysis\\\\n5. Short and concise, if the data table is too long only return the relevant rows or a small sample\\\\n6. Avoid generating too much redundant information unless specified by the user or they asked for detailed analysis\\\\n\\\\nYour synthesized response:\\\\n\\'', name='simple_datasource_qa', id='fddb8349-e026-4e83-b02c-bbc6746dafb6', tool_call_id='call_PAgGKJR5cLkiqx3Cza2hTMBG')]}\n",
      "\u001b[36;1m\u001b[1;3m[3:tasks]\u001b[0m \u001b[1mStarting 1 task for step 3:\n",
      "\u001b[0m- \u001b[32;1m\u001b[1;3magent\u001b[0m -> {'is_last_step': False,\n",
      " 'messages': [HumanMessage(content='show me average discount, total sales and profits by region sorted by profit', additional_kwargs={}, response_metadata={}, id='e6bf3993-46f0-466f-ade9-c9ca3d58d066'),\n",
      "              AIMessage(content='', additional_kwargs={'tool_calls': [{'id': 'call_PAgGKJR5cLkiqx3Cza2hTMBG', 'function': {'arguments': '{\"user_input\":\"SELECT region, AVG(discount) AS average_discount, SUM(sales) AS total_sales, SUM(profit) AS total_profit FROM sales_data GROUP BY region ORDER BY total_profit DESC\"}', 'name': 'simple_datasource_qa'}, 'type': 'function'}], 'refusal': None}, response_metadata={'token_usage': {'completion_tokens': 55, 'prompt_tokens': 297, 'total_tokens': 352, 'completion_tokens_details': {'accepted_prediction_tokens': 0, 'audio_tokens': 0, 'reasoning_tokens': 0, 'rejected_prediction_tokens': 0}, 'prompt_tokens_details': {'audio_tokens': 0, 'cached_tokens': 0}}, 'model_name': 'gpt-4o-mini-2024-07-18', 'system_fingerprint': 'fp_06737a9306', 'finish_reason': 'tool_calls', 'logprobs': None}, id='run-a4c17094-dcb9-460b-b9bc-c72c194ce18d-0', tool_calls=[{'name': 'simple_datasource_qa', 'args': {'user_input': 'SELECT region, AVG(discount) AS average_discount, SUM(sales) AS total_sales, SUM(profit) AS total_profit FROM sales_data GROUP BY region ORDER BY total_profit DESC'}, 'id': 'call_PAgGKJR5cLkiqx3Cza2hTMBG', 'type': 'tool_call'}], usage_metadata={'input_tokens': 297, 'output_tokens': 55, 'total_tokens': 352, 'input_token_details': {'audio': 0, 'cache_read': 0}, 'output_token_details': {'audio': 0, 'reasoning': 0}}),\n",
      "              ToolMessage(content='text=\\'\\\\nThis is the output of a data query tool used to fetch information via Tableau\\\\\\'s VizQL API,\\\\nyour task is synthesizing all of this information to provide a clear, concise answer to the end user.\\\\n\\\\nThis is the data source queried with the tool:\\\\n0965e61b-a072-43cf-994c-8c6cf526940d\\\\n\\\\nThis is the query written to Tableau\\\\\\'s VizQL API for the data source:\\\\ncontent=\\\\\\'{\"fields\":[{\"fieldCaption\":\"Region\"},{\"fieldCaption\":\"Discount\",\"function\":\"AVG\",\"maxDecimalPlaces\":2},{\"fieldCaption\":\"Sales\",\"function\":\"SUM\",\"maxDecimalPlaces\":2},{\"fieldCaption\":\"Profit\",\"function\":\"SUM\",\"maxDecimalPlaces\":2,\"sortPriority\":1,\"sortDirection\":\"DESC\"}]}\\\\\\' additional_kwargs={\\\\\\'refusal\\\\\\': None} response_metadata={\\\\\\'token_usage\\\\\\': {\\\\\\'completion_tokens\\\\\\': 66, \\\\\\'prompt_tokens\\\\\\': 6401, \\\\\\'total_tokens\\\\\\': 6467, \\\\\\'completion_tokens_details\\\\\\': {\\\\\\'accepted_prediction_tokens\\\\\\': 0, \\\\\\'audio_tokens\\\\\\': 0, \\\\\\'reasoning_tokens\\\\\\': 0, \\\\\\'rejected_prediction_tokens\\\\\\': 0}, \\\\\\'prompt_tokens_details\\\\\\': {\\\\\\'audio_tokens\\\\\\': 0, \\\\\\'cached_tokens\\\\\\': 0}}, \\\\\\'model_name\\\\\\': \\\\\\'gpt-4o-mini-2024-07-18\\\\\\', \\\\\\'system_fingerprint\\\\\\': \\\\\\'fp_06737a9306\\\\\\', \\\\\\'finish_reason\\\\\\': \\\\\\'stop\\\\\\', \\\\\\'logprobs\\\\\\': None} id=\\\\\\'run-6fb94bf7-1484-4636-9eef-9dce81042988-0\\\\\\' usage_metadata={\\\\\\'input_tokens\\\\\\': 6401, \\\\\\'output_tokens\\\\\\': 66, \\\\\\'total_tokens\\\\\\': 6467, \\\\\\'input_token_details\\\\\\': {\\\\\\'audio\\\\\\': 0, \\\\\\'cache_read\\\\\\': 0}, \\\\\\'output_token_details\\\\\\': {\\\\\\'audio\\\\\\': 0, \\\\\\'reasoning\\\\\\': 0}}\\\\n\\\\nThis is the resulting data from the query:\\\\n| Region | AVG(Discount) | SUM(Sales) | SUM(Profit) |\\\\n| --- | --- | --- | --- |\\\\n| West | 0.11 | 739813.61 | 110798.82 |\\\\n| East | 0.14 | 691828.17 | 94883.26 |\\\\n| South | 0.15 | 391721.91 | 46749.43 |\\\\n| Central | 0.24 | 503170.67 | 39865.31 |\\\\n\\\\n\\\\nThis was the user_input (question or task):\\\\nSELECT region, AVG(discount) AS average_discount, SUM(sales) AS total_sales, SUM(profit) AS total_profit FROM sales_data GROUP BY region ORDER BY total_profit DESC\\\\n\\\\nBased on the provided context, formulate a comprehensive and informative response to the user\\\\\\'s query.\\\\nYour response should be:\\\\n1. Describe the data source used in the query unless it has been mentioned previously\\\\n2. Translate the query to a simple query plan for end users who do not understand SQL\\\\n3. Use the data_table to answer the user\\\\\\'s question or task\\\\n4. Provide insights or conclusions only when relevant to the user, don\\\\\\'t generate additional insights\\\\nthat are unasked for unless the request asked for a detailed analysis\\\\n5. Short and concise, if the data table is too long only return the relevant rows or a small sample\\\\n6. Avoid generating too much redundant information unless specified by the user or they asked for detailed analysis\\\\n\\\\nYour synthesized response:\\\\n\\'', name='simple_datasource_qa', id='fddb8349-e026-4e83-b02c-bbc6746dafb6', tool_call_id='call_PAgGKJR5cLkiqx3Cza2hTMBG')],\n",
      " 'remaining_steps': 22}\n",
      "\u001b[36;1m\u001b[1;3m[3:writes]\u001b[0m \u001b[1mFinished step 3 with writes to 1 channel:\n",
      "\u001b[0m- \u001b[33;1m\u001b[1;3mmessages\u001b[0m -> [AIMessage(content='Here are the average discount, total sales, and profits by region, sorted by profit:\\n\\n| Region   | Average Discount | Total Sales  | Total Profit  |\\n|----------|------------------|--------------|---------------|\\n| West     | 0.11             | 739,813.61   | 110,798.82    |\\n| East     | 0.14             | 691,828.17   | 94,883.26     |\\n| South    | 0.15             | 391,721.91   | 46,749.43     |\\n| Central  | 0.24             | 503,170.67   | 39,865.31     |\\n\\nThis data is derived from the sales data source, providing insights into the performance of different regions based on sales and profit metrics.', additional_kwargs={'refusal': None}, response_metadata={'token_usage': {'completion_tokens': 174, 'prompt_tokens': 1133, 'total_tokens': 1307, 'completion_tokens_details': {'accepted_prediction_tokens': 0, 'audio_tokens': 0, 'reasoning_tokens': 0, 'rejected_prediction_tokens': 0}, 'prompt_tokens_details': {'audio_tokens': 0, 'cached_tokens': 0}}, 'model_name': 'gpt-4o-mini-2024-07-18', 'system_fingerprint': 'fp_06737a9306', 'finish_reason': 'stop', 'logprobs': None}, id='run-2a556aed-fbdc-4498-885f-1820266aa079-0', usage_metadata={'input_tokens': 1133, 'output_tokens': 174, 'total_tokens': 1307, 'input_token_details': {'audio': 0, 'cache_read': 0}, 'output_token_details': {'audio': 0, 'reasoning': 0}})]\n",
      "\u001b[36;1m\u001b[1;3m[3:checkpoint]\u001b[0m \u001b[1mState at the end of step 3:\n",
      "\u001b[0m{'messages': [HumanMessage(content='show me average discount, total sales and profits by region sorted by profit', additional_kwargs={}, response_metadata={}, id='e6bf3993-46f0-466f-ade9-c9ca3d58d066'),\n",
      "              AIMessage(content='', additional_kwargs={'tool_calls': [{'id': 'call_PAgGKJR5cLkiqx3Cza2hTMBG', 'function': {'arguments': '{\"user_input\":\"SELECT region, AVG(discount) AS average_discount, SUM(sales) AS total_sales, SUM(profit) AS total_profit FROM sales_data GROUP BY region ORDER BY total_profit DESC\"}', 'name': 'simple_datasource_qa'}, 'type': 'function'}], 'refusal': None}, response_metadata={'token_usage': {'completion_tokens': 55, 'prompt_tokens': 297, 'total_tokens': 352, 'completion_tokens_details': {'accepted_prediction_tokens': 0, 'audio_tokens': 0, 'reasoning_tokens': 0, 'rejected_prediction_tokens': 0}, 'prompt_tokens_details': {'audio_tokens': 0, 'cached_tokens': 0}}, 'model_name': 'gpt-4o-mini-2024-07-18', 'system_fingerprint': 'fp_06737a9306', 'finish_reason': 'tool_calls', 'logprobs': None}, id='run-a4c17094-dcb9-460b-b9bc-c72c194ce18d-0', tool_calls=[{'name': 'simple_datasource_qa', 'args': {'user_input': 'SELECT region, AVG(discount) AS average_discount, SUM(sales) AS total_sales, SUM(profit) AS total_profit FROM sales_data GROUP BY region ORDER BY total_profit DESC'}, 'id': 'call_PAgGKJR5cLkiqx3Cza2hTMBG', 'type': 'tool_call'}], usage_metadata={'input_tokens': 297, 'output_tokens': 55, 'total_tokens': 352, 'input_token_details': {'audio': 0, 'cache_read': 0}, 'output_token_details': {'audio': 0, 'reasoning': 0}}),\n",
      "              ToolMessage(content='text=\\'\\\\nThis is the output of a data query tool used to fetch information via Tableau\\\\\\'s VizQL API,\\\\nyour task is synthesizing all of this information to provide a clear, concise answer to the end user.\\\\n\\\\nThis is the data source queried with the tool:\\\\n0965e61b-a072-43cf-994c-8c6cf526940d\\\\n\\\\nThis is the query written to Tableau\\\\\\'s VizQL API for the data source:\\\\ncontent=\\\\\\'{\"fields\":[{\"fieldCaption\":\"Region\"},{\"fieldCaption\":\"Discount\",\"function\":\"AVG\",\"maxDecimalPlaces\":2},{\"fieldCaption\":\"Sales\",\"function\":\"SUM\",\"maxDecimalPlaces\":2},{\"fieldCaption\":\"Profit\",\"function\":\"SUM\",\"maxDecimalPlaces\":2,\"sortPriority\":1,\"sortDirection\":\"DESC\"}]}\\\\\\' additional_kwargs={\\\\\\'refusal\\\\\\': None} response_metadata={\\\\\\'token_usage\\\\\\': {\\\\\\'completion_tokens\\\\\\': 66, \\\\\\'prompt_tokens\\\\\\': 6401, \\\\\\'total_tokens\\\\\\': 6467, \\\\\\'completion_tokens_details\\\\\\': {\\\\\\'accepted_prediction_tokens\\\\\\': 0, \\\\\\'audio_tokens\\\\\\': 0, \\\\\\'reasoning_tokens\\\\\\': 0, \\\\\\'rejected_prediction_tokens\\\\\\': 0}, \\\\\\'prompt_tokens_details\\\\\\': {\\\\\\'audio_tokens\\\\\\': 0, \\\\\\'cached_tokens\\\\\\': 0}}, \\\\\\'model_name\\\\\\': \\\\\\'gpt-4o-mini-2024-07-18\\\\\\', \\\\\\'system_fingerprint\\\\\\': \\\\\\'fp_06737a9306\\\\\\', \\\\\\'finish_reason\\\\\\': \\\\\\'stop\\\\\\', \\\\\\'logprobs\\\\\\': None} id=\\\\\\'run-6fb94bf7-1484-4636-9eef-9dce81042988-0\\\\\\' usage_metadata={\\\\\\'input_tokens\\\\\\': 6401, \\\\\\'output_tokens\\\\\\': 66, \\\\\\'total_tokens\\\\\\': 6467, \\\\\\'input_token_details\\\\\\': {\\\\\\'audio\\\\\\': 0, \\\\\\'cache_read\\\\\\': 0}, \\\\\\'output_token_details\\\\\\': {\\\\\\'audio\\\\\\': 0, \\\\\\'reasoning\\\\\\': 0}}\\\\n\\\\nThis is the resulting data from the query:\\\\n| Region | AVG(Discount) | SUM(Sales) | SUM(Profit) |\\\\n| --- | --- | --- | --- |\\\\n| West | 0.11 | 739813.61 | 110798.82 |\\\\n| East | 0.14 | 691828.17 | 94883.26 |\\\\n| South | 0.15 | 391721.91 | 46749.43 |\\\\n| Central | 0.24 | 503170.67 | 39865.31 |\\\\n\\\\n\\\\nThis was the user_input (question or task):\\\\nSELECT region, AVG(discount) AS average_discount, SUM(sales) AS total_sales, SUM(profit) AS total_profit FROM sales_data GROUP BY region ORDER BY total_profit DESC\\\\n\\\\nBased on the provided context, formulate a comprehensive and informative response to the user\\\\\\'s query.\\\\nYour response should be:\\\\n1. Describe the data source used in the query unless it has been mentioned previously\\\\n2. Translate the query to a simple query plan for end users who do not understand SQL\\\\n3. Use the data_table to answer the user\\\\\\'s question or task\\\\n4. Provide insights or conclusions only when relevant to the user, don\\\\\\'t generate additional insights\\\\nthat are unasked for unless the request asked for a detailed analysis\\\\n5. Short and concise, if the data table is too long only return the relevant rows or a small sample\\\\n6. Avoid generating too much redundant information unless specified by the user or they asked for detailed analysis\\\\n\\\\nYour synthesized response:\\\\n\\'', name='simple_datasource_qa', id='fddb8349-e026-4e83-b02c-bbc6746dafb6', tool_call_id='call_PAgGKJR5cLkiqx3Cza2hTMBG'),\n",
      "              AIMessage(content='Here are the average discount, total sales, and profits by region, sorted by profit:\\n\\n| Region   | Average Discount | Total Sales  | Total Profit  |\\n|----------|------------------|--------------|---------------|\\n| West     | 0.11             | 739,813.61   | 110,798.82    |\\n| East     | 0.14             | 691,828.17   | 94,883.26     |\\n| South    | 0.15             | 391,721.91   | 46,749.43     |\\n| Central  | 0.24             | 503,170.67   | 39,865.31     |\\n\\nThis data is derived from the sales data source, providing insights into the performance of different regions based on sales and profit metrics.', additional_kwargs={'refusal': None}, response_metadata={'token_usage': {'completion_tokens': 174, 'prompt_tokens': 1133, 'total_tokens': 1307, 'completion_tokens_details': {'accepted_prediction_tokens': 0, 'audio_tokens': 0, 'reasoning_tokens': 0, 'rejected_prediction_tokens': 0}, 'prompt_tokens_details': {'audio_tokens': 0, 'cached_tokens': 0}}, 'model_name': 'gpt-4o-mini-2024-07-18', 'system_fingerprint': 'fp_06737a9306', 'finish_reason': 'stop', 'logprobs': None}, id='run-2a556aed-fbdc-4498-885f-1820266aa079-0', usage_metadata={'input_tokens': 1133, 'output_tokens': 174, 'total_tokens': 1307, 'input_token_details': {'audio': 0, 'cache_read': 0}, 'output_token_details': {'audio': 0, 'reasoning': 0}})]}\n"
     ]
    },
    {
     "data": {
      "text/markdown": [
       "\n",
       "\n",
       "Analytics Agent:\n",
       "\n",
       "Here are the average discount, total sales, and profits by region, sorted by profit:\n",
       "\n",
       "| Region   | Average Discount | Total Sales  | Total Profit  |\n",
       "|----------|------------------|--------------|---------------|\n",
       "| West     | 0.11             | 739,813.61   | 110,798.82    |\n",
       "| East     | 0.14             | 691,828.17   | 94,883.26     |\n",
       "| South    | 0.15             | 391,721.91   | 46,749.43     |\n",
       "| Central  | 0.24             | 503,170.67   | 39,865.31     |\n",
       "\n",
       "This data is derived from the sales data source, providing insights into the performance of different regions based on sales and profit metrics."
      ],
      "text/plain": [
       "<IPython.core.display.Markdown object>"
      ]
     },
     "metadata": {},
     "output_type": "display_data"
    }
   ],
   "source": [
    "# question or task sent to the agent\n",
    "message_string = 'show me average discount, total sales and profits by region sorted by profit'\n",
    "\n",
    "# Run the agent\n",
    "messages = query_agent.invoke({\"messages\": [(\"human\", message_string)]})\n",
    "agent_message = \"\\n\\nAnalytics Agent:\\n\\n\" + messages['messages'][3].content\n",
    "display(Markdown(agent_message))"
   ]
  }
 ],
 "metadata": {
  "kernelspec": {
   "display_name": "Python 3 (ipykernel)",
   "language": "python",
   "name": "python3"
  },
  "language_info": {
   "codemirror_mode": {
    "name": "ipython",
    "version": 3
   },
   "file_extension": ".py",
   "mimetype": "text/x-python",
   "name": "python",
   "nbconvert_exporter": "python",
   "pygments_lexer": "ipython3",
   "version": "3.12.4"
  }
 },
 "nbformat": 4,
 "nbformat_minor": 4
}
