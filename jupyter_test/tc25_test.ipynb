{
 "cells": [
  {
   "cell_type": "code",
   "execution_count": null,
   "metadata": {},
   "outputs": [],
   "source": [
    "# Programmatically create and query Tableau Agents using APIs\n",
    "\n",
    "# Step 1: Run your agent using Langraph dev or Langgraph cloud"
   ]
  },
  {
   "cell_type": "code",
   "execution_count": 1,
   "metadata": {},
   "outputs": [],
   "source": [
    "#import required packages\n",
    "import requests\n",
    "import json\n",
    "from IPython.display import Markdown, display"
   ]
  },
  {
   "cell_type": "code",
   "execution_count": 2,
   "metadata": {},
   "outputs": [],
   "source": [
    "#generate an instance of a Tableau Data Q&A Agent\n",
    "def generate_agent(agent_url, graph_id_name):\n",
    "    url = agent_url + \"/assistants\"\n",
    "    \n",
    "    payload = {\n",
    "        \"assistant_id\": \"\",\n",
    "        \"graph_id\": graph_id_name,\n",
    "        \"config\": {},\n",
    "        \"metadata\": {},\n",
    "        \"if_exists\": \"raise\",\n",
    "        \"name\": \"\"\n",
    "    }\n",
    "    headers = {\"Content-Type\": \"application/json\"}\n",
    "    \n",
    "    response = requests.post(url, json=payload, headers=headers)\n",
    "    \n",
    "    return(response.json()[\"assistant_id\"])"
   ]
  },
  {
   "cell_type": "code",
   "execution_count": null,
   "metadata": {},
   "outputs": [
    {
     "data": {
      "text/plain": [
       "'21579b2d-3891-407a-af53-c3ecd97f1bf2'"
      ]
     },
     "execution_count": 4,
     "metadata": {},
     "output_type": "execute_result"
    }
   ],
   "source": [
    "my_url = ''\n",
    "my_graph_id = ''\n",
    "agent_id = generate_agent(my_url, my_graph_id)\n",
    "agent_id"
   ]
  },
  {
   "cell_type": "code",
   "execution_count": 5,
   "metadata": {},
   "outputs": [],
   "source": [
    "\n",
    "endpoint = \"/runs/stream\"\n",
    "payload = {\n",
    "    \"assistant_id\": agent_id,\n",
    "    \"input\": {\n",
    "        \"messages\": [\n",
    "            (\"human\", \"which states tend to have the highest sales?\")\n",
    "        ]\n",
    "    }\n",
    "}\n",
    "response = requests.post(my_url+endpoint, json=payload)"
   ]
  },
  {
   "cell_type": "code",
   "execution_count": 6,
   "metadata": {},
   "outputs": [
    {
     "data": {
      "text/markdown": [
       "The data source used for this analysis is a Tableau data set that tracks sales across different states.\n",
       "\n",
       "Based on the query, here are the states with the highest sales:\n",
       "\n",
       "1. **California**: $457,687.63\n",
       "2. **New York**: $310,876.27\n",
       "3. **Texas**: $170,188.05\n",
       "4. **Washington**: $138,641.27\n",
       "5. **Pennsylvania**: $116,511.91\n",
       "\n",
       "These states have consistently shown the highest sales figures. If you need more detailed information or additional states, feel free to ask!"
      ],
      "text/plain": [
       "<IPython.core.display.Markdown object>"
      ]
     },
     "metadata": {},
     "output_type": "display_data"
    }
   ],
   "source": [
    "def pretty_print_tab_agent_response(agent_output):\n",
    "    current_event = None\n",
    "    for line in agent_output.iter_lines():\n",
    "        if not line:\n",
    "            continue\n",
    "    \n",
    "        decoded = line.decode(\"utf-8\")\n",
    "    \n",
    "        if decoded.startswith(\"event:\"):\n",
    "            current_event = decoded.replace(\"event: \", \"\").strip()\n",
    "        elif decoded.startswith(\"data:\"):\n",
    "            data_json = decoded.replace(\"data: \", \"\").strip()\n",
    "    \n",
    "            try:\n",
    "                data = json.loads(data_json)\n",
    "            except json.JSONDecodeError:\n",
    "                print(f\"⚠️ Couldn't parse JSON: {data_json}\")\n",
    "                continue\n",
    "    \n",
    "            # 🎯 Final AI response usually in 'values' event\n",
    "            if current_event == \"values\":\n",
    "                messages = data.get(\"messages\", [])\n",
    "                for msg in messages:\n",
    "                    if msg.get(\"type\") == \"ai\" and msg.get(\"content\"):\n",
    "                        return(display(Markdown(msg[\"content\"])))\n",
    "\n",
    "pretty_print_tab_agent_response(response)"
   ]
  },
  {
   "cell_type": "code",
   "execution_count": null,
   "metadata": {},
   "outputs": [],
   "source": []
  }
 ],
 "metadata": {
  "kernelspec": {
   "display_name": "Python 3",
   "language": "python",
   "name": "python3"
  },
  "language_info": {
   "codemirror_mode": {
    "name": "ipython",
    "version": 3
   },
   "file_extension": ".py",
   "mimetype": "text/x-python",
   "name": "python",
   "nbconvert_exporter": "python",
   "pygments_lexer": "ipython3",
   "version": "3.12.2"
  }
 },
 "nbformat": 4,
 "nbformat_minor": 2
}
