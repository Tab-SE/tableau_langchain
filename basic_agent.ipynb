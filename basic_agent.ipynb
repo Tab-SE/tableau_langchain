{
 "cells": [
  {
   "cell_type": "code",
   "execution_count": 17,
   "id": "f6f12c30-1f63-4182-b30e-20e4e036adce",
   "metadata": {},
   "outputs": [],
   "source": [
    "import os\n",
    "import json\n",
    "from dotenv import load_dotenv\n",
    "load_dotenv('/Users/joe.constantino/Desktop/playground/tableau_langchain/.env')\n",
    "\n",
    "#base langchain library imports\n",
    "from langchain.tools import tool\n",
    "from langchain_openai import ChatOpenAI\n",
    "from langchain.agents import initialize_agent, AgentType, create_tool_calling_agent, AgentExecutor\n",
    "\n",
    "#tableau_langchain imports\n",
    "from utilities.tableau.readMetadata import read\n",
    "from utilities.tableau.setPrompt import instantiate_prompt\n",
    "from tools.tableau.getDataTool import get_data"
   ]
  },
  {
   "cell_type": "code",
   "execution_count": 21,
   "id": "99ffef42-6127-4a45-a1bf-fd96663e318c",
   "metadata": {},
   "outputs": [],
   "source": [
    "#read in the environment varibales to query a Tableau Published Data Source from a target Tableau Cloud Site or Server Instance\n",
    "datasource = os.getenv('DATASOURCE_LUID')\n",
    "read_metadata_url = os.getenv('READ_METADATA')\n",
    "query_datasource = os.getenv('QUERY_DATASOURCE')\n",
    "token = os.getenv('AUTH_TOKEN')"
   ]
  },
  {
   "cell_type": "code",
   "execution_count": null,
   "id": "cf9dd917-08f3-40fe-9030-8381a446dbb7",
   "metadata": {},
   "outputs": [],
   "source": [
    "## Use the read module to pull in the necessary metadata from your target Tableau Published Data Source. This will module also augment the\n",
    "## base metadata provided by the read_metadata endpoint by removing unneccesary fields and adding sample field values to each string field.\n",
    "metadata = read(read_url=read_metadata_url, datasource_luid=datasource, auth_secret=token)\n",
    "\n",
    "# use the instaniate_prompt module to add the data model metadata to the nlq_to_vds prompt\n",
    "instantiate_prompt(metadata = metadata)"
   ]
  },
  {
   "cell_type": "code",
   "execution_count": null,
   "id": "1181d77f-ea65-49e3-945f-e25cd7a6a385",
   "metadata": {},
   "outputs": [],
   "source": [
    "# Initialize an LLM and an agent with the get_data tool to answer natural language questions with Tableau Published Datasources\n",
    "llm = ChatOpenAI(model='gpt-4o-mini', temperature=0)\n",
    "tools = [get_data]\n",
    "\n",
    "tableauHeadlessAgent = initialize_agent(\n",
    "    tools,\n",
    "    llm,\n",
    "    agent=AgentType.OPENAI_FUNCTIONS, # Use OpenAI's function calling\n",
    "    verbose = True\n",
    ")\n",
    "\n",
    "# Run the agent\n",
    "response = tableauHeadlessAgent.invoke(\"total sales per region\")\n",
    "print(response)"
   ]
  },
  {
   "cell_type": "code",
   "execution_count": null,
   "id": "f6b269aa-cd86-40e5-b71b-8945d5ed638f",
   "metadata": {},
   "outputs": [],
   "source": []
  }
 ],
 "metadata": {
  "kernelspec": {
   "display_name": "Python [conda env:tableau_langchain] *",
   "language": "python",
   "name": "conda-env-tableau_langchain-py"
  },
  "language_info": {
   "codemirror_mode": {
    "name": "ipython",
    "version": 3
   },
   "file_extension": ".py",
   "mimetype": "text/x-python",
   "name": "python",
   "nbconvert_exporter": "python",
   "pygments_lexer": "ipython3",
   "version": "3.12.2"
  }
 },
 "nbformat": 4,
 "nbformat_minor": 5
}
