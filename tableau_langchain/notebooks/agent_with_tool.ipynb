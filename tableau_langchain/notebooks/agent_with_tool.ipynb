{
 "cells": [
  {
   "cell_type": "code",
   "execution_count": 2,
   "id": "3242408b-2483-4285-b3ed-ab8ccb00aa36",
   "metadata": {},
   "outputs": [
    {
     "name": "stdout",
     "output_type": "stream",
     "text": [
      "Collecting pandas\n",
      "  Downloading pandas-2.2.3-cp312-cp312-macosx_10_9_x86_64.whl.metadata (89 kB)\n",
      "\u001b[2K     \u001b[90m━━━━━━━━━━━━━━━━━━━━━━━━━━━━━━━━━━━━━━━━\u001b[0m \u001b[32m89.9/89.9 kB\u001b[0m \u001b[31m1.5 MB/s\u001b[0m eta \u001b[36m0:00:00\u001b[0ma \u001b[36m0:00:01\u001b[0m\n",
      "\u001b[?25hRequirement already satisfied: numpy>=1.26.0 in /usr/local/Caskroom/mambaforge/base/envs/tableau_langchain/lib/python3.12/site-packages (from pandas) (1.26.4)\n",
      "Requirement already satisfied: python-dateutil>=2.8.2 in /usr/local/Caskroom/mambaforge/base/envs/tableau_langchain/lib/python3.12/site-packages (from pandas) (2.9.0)\n",
      "Requirement already satisfied: pytz>=2020.1 in /usr/local/Caskroom/mambaforge/base/envs/tableau_langchain/lib/python3.12/site-packages (from pandas) (2024.2)\n",
      "Collecting tzdata>=2022.7 (from pandas)\n",
      "  Downloading tzdata-2024.2-py2.py3-none-any.whl.metadata (1.4 kB)\n",
      "Requirement already satisfied: six>=1.5 in /usr/local/Caskroom/mambaforge/base/envs/tableau_langchain/lib/python3.12/site-packages (from python-dateutil>=2.8.2->pandas) (1.16.0)\n",
      "Downloading pandas-2.2.3-cp312-cp312-macosx_10_9_x86_64.whl (12.5 MB)\n",
      "\u001b[2K   \u001b[90m━━━━━━━━━━━━━━━━━━━━━━━━━━━━━━━━━━━━━━━━\u001b[0m \u001b[32m12.5/12.5 MB\u001b[0m \u001b[31m9.2 MB/s\u001b[0m eta \u001b[36m0:00:00\u001b[0m00:01\u001b[0m00:01\u001b[0mm\n",
      "\u001b[?25hDownloading tzdata-2024.2-py2.py3-none-any.whl (346 kB)\n",
      "\u001b[2K   \u001b[90m━━━━━━━━━━━━━━━━━━━━━━━━━━━━━━━━━━━━━━━━\u001b[0m \u001b[32m346.6/346.6 kB\u001b[0m \u001b[31m6.2 MB/s\u001b[0m eta \u001b[36m0:00:00\u001b[0mta \u001b[36m0:00:01\u001b[0m\n",
      "\u001b[?25hInstalling collected packages: tzdata, pandas\n",
      "Successfully installed pandas-2.2.3 tzdata-2024.2\n",
      "Note: you may need to restart the kernel to use updated packages.\n"
     ]
    }
   ],
   "source": [
    "#pip install pandas"
   ]
  },
  {
   "cell_type": "code",
   "execution_count": 1,
   "id": "d3d0ffce-44dc-4b5d-b27c-f6134b30e462",
   "metadata": {},
   "outputs": [],
   "source": [
    "from langchain_openai import ChatOpenAI\n",
    "from langchain.agents.agent_types import AgentType\n",
    "from langchain_core.prompts import ChatPromptTemplate\n",
    "from langchain_core.prompts import PromptTemplate\n",
    "from langchain_core.messages import HumanMessage, SystemMessage\n",
    "from langchain_core.output_parsers import StrOutputParser\n",
    "from dotenv import load_dotenv\n",
    "#import pandas as pd\n",
    "import os\n",
    "import sys\n",
    "import json\n",
    "import requests\n",
    "import re\n",
    "from dotenv import load_dotenv\n",
    "load_dotenv('/Users/joe.constantino/Desktop/playground/tableau_langchain/.env')\n",
    "\n",
    "\n",
    "from langchain import hub\n",
    "from langchain.agents import AgentExecutor\n"
   ]
  },
  {
   "cell_type": "code",
   "execution_count": 2,
   "id": "a596225e-bedf-4d10-a05f-5cca4cf24d4f",
   "metadata": {},
   "outputs": [],
   "source": [
    "#read in environment variables\n",
    "tab_server_url = os.getenv('TABLEAU_DOMAIN')\n",
    "tab_site = os.getenv('SITE_NAME')\n",
    "datasource = os.getenv('DATASOURCE')\n",
    "read_metadata_url = os.getenv('READ_METADATA')\n",
    "hbi_url = os.getenv('HEADLESSBI_URL')\n",
    "token = os.getenv('PAT_NAME')\n",
    "secret = os.getenv('PAT_SECRET')"
   ]
  },
  {
   "cell_type": "code",
   "execution_count": 5,
   "id": "4a1c3396-6927-485c-bfc5-5294d3ff2f6a",
   "metadata": {},
   "outputs": [
    {
     "name": "stdout",
     "output_type": "stream",
     "text": [
      "us-west-2a.online.tableau.com\n"
     ]
    }
   ],
   "source": [
    "print(tab_server_url)"
   ]
  },
  {
   "cell_type": "code",
   "execution_count": 3,
   "id": "ac3ee064-f3d5-4e9b-b52b-450b25c34319",
   "metadata": {},
   "outputs": [
    {
     "name": "stdout",
     "output_type": "stream",
     "text": [
      "Failed to fetch data from the API. Status code: 400\n",
      "{\"errorCode\":\"400000\",\"message\":\"Null value is not allowed.\",\"datetime\":\"2024-11-02T17:02:24.78463Z\"}\n"
     ]
    }
   ],
   "source": [
    "#read in the datasource metadata of the datasource that is defined in your environment variables using load_dotenv().\n",
    "# If the above cell succeeded, skip this cell\n",
    "load_dotenv()\n",
    "def read():\n",
    "    url = read_metadata_url\n",
    "    payload = json.dumps({\n",
    "        \"connection\": {\n",
    "            \"tableauServerName\": tab_server_url,\n",
    "            \"siteId\": tab_site,\n",
    "            \"datasource\": datasource\n",
    "        },\n",
    "    })\n",
    "\n",
    "    headers = {\n",
    "    'Credential-Key': token,\n",
    "    'Credential-value': secret,\n",
    "    'Content-Type': 'application/json'\n",
    "    }\n",
    "    response = requests.request(\"POST\", url, headers=headers, data=payload)\n",
    "\n",
    "    # Check if the request was successful (status code 200)\n",
    "    if response.status_code == 200:\n",
    "        # Print the response data\n",
    "        #print(\"Response Data:\")\n",
    "        #print(response.json())\n",
    "        data = response.json()['data']\n",
    "        # Create a pandas DataFrame from the JSON data\n",
    "        #df = pd.DataFrame(data)\n",
    "\n",
    "        # Display the first few rows of the DataFrame\n",
    "        #print(\"Table view of data from the public REST API:\")\n",
    "        #print(df.head())\n",
    "        #print(df.all())\n",
    "        return data\n",
    "        #display(df.head())\n",
    "    else:\n",
    "        print(\"Failed to fetch data from the API. Status code:\", response.status_code)\n",
    "        print(response.text)\n",
    "datasource_metadata = read()"
   ]
  },
  {
   "cell_type": "code",
   "execution_count": null,
   "id": "7b4ef2df-b7a1-472c-9995-8c9c5aa98225",
   "metadata": {},
   "outputs": [],
   "source": []
  }
 ],
 "metadata": {
  "kernelspec": {
   "display_name": "Python [conda env:tableau_langchain] *",
   "language": "python",
   "name": "conda-env-tableau_langchain-py"
  },
  "language_info": {
   "codemirror_mode": {
    "name": "ipython",
    "version": 3
   },
   "file_extension": ".py",
   "mimetype": "text/x-python",
   "name": "python",
   "nbconvert_exporter": "python",
   "pygments_lexer": "ipython3",
   "version": "3.12.2"
  }
 },
 "nbformat": 4,
 "nbformat_minor": 5
}
