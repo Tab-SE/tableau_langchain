{
 "cells": [
  {
   "cell_type": "markdown",
   "metadata": {},
   "source": [
    "# Simple Data Source Q&A\n",
    "\n",
    "This is a sample implementation of an analytical Agent for Tableau built with Langgraph\n",
    "\n",
    "### Dependencies and Environment Variables\n",
    "\n",
    "First we begin with the dependencies and environment variables needed to run the Agent graph"
   ]
  },
  {
   "cell_type": "code",
   "execution_count": 1,
   "metadata": {},
   "outputs": [],
   "source": [
    "import os\n",
    "from dotenv import load_dotenv\n",
    "from IPython.display import display, Markdown\n",
    "\n",
    "# base langchain library imports\n",
    "from langchain_openai import ChatOpenAI\n",
    "from langgraph.prebuilt import create_react_agent\n",
    "\n",
    "# tableau_langchain imports\n",
    "from community.langchain_community.tools.tableau.simple_datasource_qa import initialize_simple_datasource_qa\n",
    "\n",
    "# environment variables available to current process and sub processes\n",
    "load_dotenv()\n",
    "# variables for authenticating and interacting with a Tableau site\n",
    "tableau_domain = os.environ['TABLEAU_DOMAIN']\n",
    "tableau_site = os.environ['TABLEAU_SITE']\n",
    "tableau_jwt_client_id = os.environ['TABLEAU_JWT_CLIENT_ID']\n",
    "tableau_jwt_secret_id = os.environ['TABLEAU_JWT_SECRET_ID']\n",
    "tableau_jwt_secret = os.environ['TABLEAU_JWT_SECRET']\n",
    "tableau_api_version = os.environ['TABLEAU_API_VERSION']\n",
    "tableau_user = os.environ['TABLEAU_USER']\n",
    "# the target data source for this Tool\n",
    "datasource_luid = os.environ['DATASOURCE_LUID']\n",
    "# variables to control LLM models for the Agent and Tools\n",
    "open_api_key = os.environ[\"OPENAI_API_KEY\"]\n",
    "agent_llm_model = os.environ['AGENT_MODEL']\n",
    "tooling_llm_model = os.environ['TOOLING_MODEL']"
   ]
  },
  {
   "cell_type": "markdown",
   "metadata": {},
   "source": [
    "### Agent Graph\n",
    "\n",
    "Then we define the Agent graph using Langgraph's prebuilt `create_react_agent` combined with the a tool to query a Tableau data source for conversational analytics"
   ]
  },
  {
   "cell_type": "code",
   "execution_count": 2,
   "metadata": {},
   "outputs": [],
   "source": [
    "# configure running model for the agent\n",
    "llm = ChatOpenAI(\n",
    "    model=agent_llm_model,\n",
    "    api_key=open_api_key,\n",
    "    temperature=0,\n",
    "    verbose=True,\n",
    "    max_tokens=None,\n",
    "    timeout=None,\n",
    "    max_retries=2\n",
    ")\n",
    "\n",
    "# Tableau VizQL Data Service Query Tool\n",
    "analyze_datasource = initialize_simple_datasource_qa(\n",
    "    domain=tableau_domain,\n",
    "    site=tableau_site,\n",
    "    jwt_client_id=tableau_jwt_client_id,\n",
    "    jwt_secret_id=tableau_jwt_secret_id,\n",
    "    jwt_secret=tableau_jwt_secret,\n",
    "    tableau_api_version=tableau_api_version,\n",
    "    tableau_user=tableau_user,\n",
    "    datasource_luid=datasource_luid,\n",
    "    tooling_llm_model=tooling_llm_model\n",
    ")\n",
    "\n",
    "# load the List of Tools to be used by the Agent\n",
    "tools = [ analyze_datasource ]\n",
    "\n",
    "# set agent debugging state\n",
    "if os.getenv('DEBUG') == '1':\n",
    "    debugging = True\n",
    "else:\n",
    "    debugging = False\n",
    "\n",
    "# define the agent graph\n",
    "query_agent = create_react_agent(\n",
    "    model=llm,\n",
    "    tools=tools,\n",
    "    debug=debugging\n",
    ")"
   ]
  },
  {
   "cell_type": "markdown",
   "metadata": {},
   "source": [
    "### Interacting with the Analytical Agent\n",
    "\n",
    "After constructing an Analytical Agent with the power to query a Tableau data source, we proceed to ask questions, set tasks and issue commands to the Agent"
   ]
  },
  {
   "cell_type": "code",
   "execution_count": 3,
   "metadata": {},
   "outputs": [
    {
     "data": {
      "text/markdown": [
       "\n",
       "\n",
       "Analytics Agent:\n",
       "\n",
       "Here are the average discount, total sales, and profits by region, sorted by profit:\n",
       "\n",
       "| Region   | Average Discount | Total Sales  | Total Profit  |\n",
       "|----------|------------------|--------------|---------------|\n",
       "| West     | 0.11             | 739,813.61   | 110,798.82    |\n",
       "| East     | 0.14             | 691,828.17   | 94,883.26     |\n",
       "| South    | 0.15             | 391,721.91   | 46,749.43     |\n",
       "| Central  | 0.24             | 503,170.67   | 39,865.31     |\n",
       "\n",
       "This data is derived from the sales data source, providing insights into the performance of different regions based on sales and profit metrics."
      ],
      "text/plain": [
       "<IPython.core.display.Markdown object>"
      ]
     },
     "metadata": {},
     "output_type": "display_data"
    }
   ],
   "source": [
    "# question or task sent to the agent\n",
    "message_string = 'show me average discount, total sales and profits by region sorted by profit'\n",
    "\n",
    "# Run the agent\n",
    "messages = query_agent.invoke({\"messages\": [(\"human\", message_string)]})\n",
    "agent_message = \"\\n\\nAnalytics Agent:\\n\\n\" + messages['messages'][3].content\n",
    "display(Markdown(agent_message))"
   ]
  }
 ],
 "metadata": {
  "kernelspec": {
   "display_name": "tableau_langchain",
   "language": "python",
   "name": "python3"
  },
  "language_info": {
   "codemirror_mode": {
    "name": "ipython",
    "version": 3
   },
   "file_extension": ".py",
   "mimetype": "text/x-python",
   "name": "python",
   "nbconvert_exporter": "python",
   "pygments_lexer": "ipython3",
   "version": "3.12.2"
  }
 },
 "nbformat": 4,
 "nbformat_minor": 2
}
